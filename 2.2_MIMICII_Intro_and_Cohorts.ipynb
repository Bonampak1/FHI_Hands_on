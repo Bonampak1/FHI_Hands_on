{
 "cells": [
  {
   "cell_type": "markdown",
   "metadata": {},
   "source": [
    "## NOTE : This notebook was originally created by Dr. Brian Chapman and others.  It has been modified slightly for BMI 6018 2017 course with additional modifications for BMI6115 2018 course."
   ]
  },
  {
   "cell_type": "markdown",
   "metadata": {},
   "source": [
    "# Identifying Patient Cohorts in [MIMIC-II](http://www.ncbi.nlm.nih.gov/pmc/articles/PMC3124312/)\n"
   ]
  },
  {
   "cell_type": "markdown",
   "metadata": {},
   "source": [
    "[MIMIC-II](https://physionet.org/mimic2/mimic2_clinical_overview.shtml) is a freely available database of ICU patients. To access the full database (now migrated to [MIMIC-III](https://www.nature.com/articles/sdata201635.pdf))  you must sign a data use agreement. However, there is a [demo data set](https://physionet.org/mimic2/demo/) based on 4000 deceased patients that can be used without signing any DUA.\n",
    "\n",
    "## How to Use the MIMIC-II Database\n",
    "* [MIMIC-II Cookbook](https://physionet.org/mimic2/demo/MIMICIICookBook_v1.pdf)\n",
    "* [MIMIC Data Dictionaries](http://physionet.incor.usp.br/physiobank/database/dictionaries/)\n",
    "\n",
    "\n",
    "## The Varieties of...Data\n",
    "The data set is very rich and so is a good resource for exploring the varieties of clinical data\n",
    "\n",
    "![MIMIC Paper](./images/mimic_paper_header.jpg)\n",
    "![MIMIC Publications](./images/mimic_publications.jpg)\n",
    "(Sources : https://mimic.physionet.org/)\n",
    "\n",
    "Data incluces free text notes (nursing, radiology, discharg summaries, etc.), input/output events, test results, procedure codes, diagnosis codes, etc."
   ]
  },
  {
   "cell_type": "markdown",
   "metadata": {},
   "source": [
    "# Very Short FAQ : \n",
    "* Q : What is the difference between MIMIC-II and MIMIC-III?\n",
    "* A : MIMIC-II spans the time period of 2001 to 2008.  MIMIC-III spans 2001 to 2012 so it contains more data.  In addition, some data structures have been improved to make MIMIC-III easier to work with.  Some data quality issues have been resolved as well\n",
    "\n",
    "\n",
    "* Q : How can I get access to MIMIC-III for my own research?\n",
    "* A : For full MIMIC-III dataset. You'll need to do CITI training and then some other steps.  Start here: https://mimic.physionet.org/gettingstarted/access/\n",
    "   However, if you only need fewer data for exercise or experiment, you can use [MIMIC demo dataset](https://physionet.org/mimic2/demo/) without requiring DUA (data use agreement) and CITI training. "
   ]
  },
  {
   "cell_type": "code",
   "execution_count": 1,
   "metadata": {},
   "outputs": [],
   "source": [
    "%matplotlib inline"
   ]
  },
  {
   "cell_type": "code",
   "execution_count": 2,
   "metadata": {},
   "outputs": [],
   "source": [
    "import pymysql\n",
    "import pandas as pd\n",
    "import getpass\n",
    "import pandas as pd\n",
    "import seaborn as sns"
   ]
  },
  {
   "cell_type": "code",
   "execution_count": 4,
   "metadata": {},
   "outputs": [
    {
     "name": "stdout",
     "output_type": "stream",
     "text": [
      "Enter MySQL passwd for jovyan········\n"
     ]
    }
   ],
   "source": [
    "conn = pymysql.connect(host=\"mysql\",\n",
    "                       port=3306,user=\"jovyan\",\n",
    "                       passwd=getpass.getpass(\"Enter MySQL passwd for jovyan\"),db='mimic2')\n",
    "cursor = conn.cursor()\n"
   ]
  },
  {
   "cell_type": "code",
   "execution_count": null,
   "metadata": {},
   "outputs": [],
   "source": [
    "cursor.execute(\"SELECT count(*) from noteevents limit 10\")"
   ]
  },
  {
   "cell_type": "code",
   "execution_count": null,
   "metadata": {},
   "outputs": [],
   "source": [
    "#tables = pd.read_sql(\"SELECT table_name FROM information_schema.tables where table_schema='mimic2'\", conn)\n",
    "print(tables)\n"
   ]
  },
  {
   "cell_type": "markdown",
   "metadata": {},
   "source": [
    "## Example Query: Identifying ICD9 Codes for Patients"
   ]
  },
  {
   "cell_type": "code",
   "execution_count": null,
   "metadata": {},
   "outputs": [],
   "source": [
    "\n",
    "icd9_codes = pd.read_sql('SELECT count(*) from noteevents   where text like \"%breast cancer%\" limit  10',conn)\n",
    "print(icd9_codes)\n"
   ]
  },
  {
   "cell_type": "code",
   "execution_count": null,
   "metadata": {},
   "outputs": [],
   "source": [
    "icd9_codes = pd.read_sql('SELECT * from icd9 limit 100',conn)"
   ]
  },
  {
   "cell_type": "code",
   "execution_count": null,
   "metadata": {},
   "outputs": [],
   "source": [
    "icd9_counts = icd9_codes[\"description\"].value_counts([\"description\"]).to_frame(name=\"ICD9 Counts\")\n",
    "icd9_counts.head(10)"
   ]
  },
  {
   "cell_type": "markdown",
   "metadata": {},
   "source": [
    "## Selecting Cohorts\n",
    "\n",
    "Our most interesting explorations will be when we use information from multiple tables to limit/select cases. Here is an example selecting radiology reports for patients with COPD."
   ]
  },
  {
   "cell_type": "markdown",
   "metadata": {},
   "source": [
    "## Select all the radiology reports for a patient with COPD\n",
    "### [Codes obtained from https://www.findacode.com/](https://www.findacode.com/)\n",
    "* chronic bronchitis (ICD-9 codes 490-491)\n",
    "* emphysema (ICD-9 code 492)\n",
    "* bronchiectasis (ICD-9 code 494)\n",
    "* chronic airway obstruction (ICD-9 code 496). \n",
    "\n",
    "The **\\** character indicates a line continuation."
   ]
  },
  {
   "cell_type": "code",
   "execution_count": null,
   "metadata": {},
   "outputs": [],
   "source": [
    "copd_data = \\\n",
    "pd.read_sql(\"\"\"SELECT noteevents.subject_id, \n",
    "                      noteevents.category, \n",
    "                      noteevents.text, \n",
    "                      icd9.code \n",
    "               FROM noteevents INNER JOIN icd9 ON \n",
    "                      noteevents.subject_id = icd9.subject_id \n",
    "               WHERE (   icd9.code LIKE '490%' OR\n",
    "                         icd9.code LIKE '491%' OR\n",
    "                         icd9.code LIKE '492%' OR\n",
    "                         icd9.code LIKE '494%' OR\n",
    "                         icd9.code LIKE '496%'\n",
    "                      ) \n",
    "                      AND noteevents.category = 'RADIOLOGY_REPORT'\"\"\",conn)\n",
    "copd_data.head(20)"
   ]
  },
  {
   "cell_type": "code",
   "execution_count": null,
   "metadata": {},
   "outputs": [],
   "source": [
    "pad_data = \\\n",
    "pd.read_sql(\"\"\"SELECT distinct noteevents.subject_id,  \n",
    "                      noteevents.text\n",
    "               FROM noteevents  \n",
    "               WHERE (noteevents.text LIKE '% abi%')\n",
    "               \"\"\",conn)"
   ]
  },
  {
   "cell_type": "code",
   "execution_count": null,
   "metadata": {},
   "outputs": [],
   "source": [
    "pad_data.subject_id, pad_data.text"
   ]
  },
  {
   "cell_type": "code",
   "execution_count": null,
   "metadata": {},
   "outputs": [],
   "source": [
    "len(pad_data)"
   ]
  },
  {
   "cell_type": "code",
   "execution_count": null,
   "metadata": {},
   "outputs": [],
   "source": [
    "pad_data.columns\n",
    "\n"
   ]
  },
  {
   "cell_type": "code",
   "execution_count": null,
   "metadata": {},
   "outputs": [],
   "source": [
    "\n",
    "doc=pad_data.iloc[0].text\n",
    "print(doc)"
   ]
  },
  {
   "cell_type": "code",
   "execution_count": 9,
   "metadata": {},
   "outputs": [],
   "source": [
    "import re\n",
    "import pandas as pd\n",
    "\n",
    "pattern=re.compile(r\"breast cancer\")\n",
    "for d in pattern.findall(doc):\n",
    "    print(d)\n",
    "    type(d)"
   ]
  },
  {
   "cell_type": "code",
   "execution_count": 10,
   "metadata": {},
   "outputs": [
    {
     "ename": "NameError",
     "evalue": "name 'pad_data' is not defined",
     "output_type": "error",
     "traceback": [
      "\u001b[0;31m---------------------------------------------------------------------------\u001b[0m",
      "\u001b[0;31mNameError\u001b[0m                                 Traceback (most recent call last)",
      "\u001b[0;32m<ipython-input-10-4f3f4a73c961>\u001b[0m in \u001b[0;36m<module>\u001b[0;34m()\u001b[0m\n\u001b[1;32m      1\u001b[0m \u001b[0moutdf\u001b[0m \u001b[0;34m=\u001b[0m \u001b[0mpd\u001b[0m\u001b[0;34m.\u001b[0m\u001b[0mDataFrame\u001b[0m\u001b[0;34m(\u001b[0m\u001b[0mcolumns\u001b[0m\u001b[0;34m=\u001b[0m\u001b[0;34m[\u001b[0m\u001b[0;34m'DocID'\u001b[0m\u001b[0;34m,\u001b[0m \u001b[0;34m'Term'\u001b[0m\u001b[0;34m,\u001b[0m \u001b[0;34m'Start'\u001b[0m\u001b[0;34m,\u001b[0m \u001b[0;34m'End'\u001b[0m\u001b[0;34m,\u001b[0m \u001b[0;34m'DocText'\u001b[0m\u001b[0;34m]\u001b[0m\u001b[0;34m)\u001b[0m\u001b[0;34m\u001b[0m\u001b[0m\n\u001b[0;32m----> 2\u001b[0;31m \u001b[0;32mfor\u001b[0m \u001b[0mdid\u001b[0m\u001b[0;34m,\u001b[0m \u001b[0mrow\u001b[0m \u001b[0;32min\u001b[0m \u001b[0mpad_data\u001b[0m\u001b[0;34m.\u001b[0m\u001b[0miterrows\u001b[0m\u001b[0;34m(\u001b[0m\u001b[0;34m)\u001b[0m\u001b[0;34m:\u001b[0m\u001b[0;34m\u001b[0m\u001b[0m\n\u001b[0m\u001b[1;32m      3\u001b[0m     \u001b[0mdoc\u001b[0m\u001b[0;34m=\u001b[0m\u001b[0mrow\u001b[0m\u001b[0;34m[\u001b[0m\u001b[0;34m'text'\u001b[0m\u001b[0;34m]\u001b[0m\u001b[0;34m\u001b[0m\u001b[0m\n\u001b[1;32m      4\u001b[0m     \u001b[0mdid\u001b[0m\u001b[0;34m=\u001b[0m\u001b[0mrow\u001b[0m\u001b[0;34m[\u001b[0m\u001b[0;34m'subject_id'\u001b[0m\u001b[0;34m]\u001b[0m\u001b[0;34m\u001b[0m\u001b[0m\n\u001b[1;32m      5\u001b[0m     \u001b[0;32mfor\u001b[0m \u001b[0mm\u001b[0m \u001b[0;32min\u001b[0m \u001b[0mre\u001b[0m\u001b[0;34m.\u001b[0m\u001b[0mfinditer\u001b[0m\u001b[0;34m(\u001b[0m\u001b[0mpattern\u001b[0m\u001b[0;34m,\u001b[0m \u001b[0mdoc\u001b[0m\u001b[0;34m)\u001b[0m\u001b[0;34m:\u001b[0m\u001b[0;34m\u001b[0m\u001b[0m\n",
      "\u001b[0;31mNameError\u001b[0m: name 'pad_data' is not defined"
     ]
    }
   ],
   "source": [
    "outdf = pd.DataFrame(columns=['DocID', 'Term', 'Start', 'End', 'DocText'])\n",
    "for did, row in pad_data.iterrows():\n",
    "    doc=row['text']\n",
    "    did=row['subject_id']\n",
    "    for m in re.finditer(pattern, doc):\n",
    "        #print(m.start(), m.end(), m.group(0))\n",
    "        s=m.start()-100\n",
    "        e=m.end()+100\n",
    "        #print(did , doc[s:e])\n",
    "        outdf=outdf.append({'DocID':did,'Term':m, 'Start':s, 'End':e, 'DocText':doc}, ignore_index=True)\n"
   ]
  },
  {
   "cell_type": "code",
   "execution_count": 11,
   "metadata": {},
   "outputs": [
    {
     "data": {
      "text/html": [
       "<div>\n",
       "<table border=\"1\" class=\"dataframe\">\n",
       "  <thead>\n",
       "    <tr style=\"text-align: right;\">\n",
       "      <th></th>\n",
       "      <th>subject_id</th>\n",
       "      <th>text</th>\n",
       "    </tr>\n",
       "  </thead>\n",
       "  <tbody>\n",
       "    <tr>\n",
       "      <th>0</th>\n",
       "      <td>78</td>\n",
       "      <td>\\n\\nAdmission Date:  [**2778-3-24**]       Dis...</td>\n",
       "    </tr>\n",
       "    <tr>\n",
       "      <th>1</th>\n",
       "      <td>78</td>\n",
       "      <td>\\nMICU ADMISSION NOTE\\nplease see fhpa for det...</td>\n",
       "    </tr>\n",
       "    <tr>\n",
       "      <th>2</th>\n",
       "      <td>590</td>\n",
       "      <td>\\nMICU nursing Progress Note\\nNeuro: Pt is res...</td>\n",
       "    </tr>\n",
       "    <tr>\n",
       "      <th>3</th>\n",
       "      <td>590</td>\n",
       "      <td>\\nP-MICU NURSING NOTE\\nS-VENTED.\\nO-PLEASE SEE...</td>\n",
       "    </tr>\n",
       "    <tr>\n",
       "      <th>4</th>\n",
       "      <td>590</td>\n",
       "      <td>\\nSMICU nsg progress\\nNeuro- Alert and oriente...</td>\n",
       "    </tr>\n",
       "    <tr>\n",
       "      <th>5</th>\n",
       "      <td>773</td>\n",
       "      <td>\\nMICU nursing admission note 5AM\\nPt is 57 yo...</td>\n",
       "    </tr>\n",
       "    <tr>\n",
       "      <th>6</th>\n",
       "      <td>1194</td>\n",
       "      <td>\\n \\n \\n \\nAdmission Date:  [**3489-1-23**]   ...</td>\n",
       "    </tr>\n",
       "    <tr>\n",
       "      <th>7</th>\n",
       "      <td>1194</td>\n",
       "      <td>\\n\\nCCU NPN: please see flowsheet for objectiv...</td>\n",
       "    </tr>\n",
       "    <tr>\n",
       "      <th>8</th>\n",
       "      <td>1194</td>\n",
       "      <td>\\n\\nNSG NOTE\\n\\nCV: INITIAL HR 90-107. PT STAR...</td>\n",
       "    </tr>\n",
       "    <tr>\n",
       "      <th>9</th>\n",
       "      <td>1245</td>\n",
       "      <td>\\n\\nNPN (0700-1930) Review of Systems:\\n\\nNeur...</td>\n",
       "    </tr>\n",
       "    <tr>\n",
       "      <th>10</th>\n",
       "      <td>1245</td>\n",
       "      <td>\\nSICU NPN 11p-7a\\nS/O-\\nNeuro- pt very lethar...</td>\n",
       "    </tr>\n",
       "    <tr>\n",
       "      <th>11</th>\n",
       "      <td>1245</td>\n",
       "      <td>\\nSICU NPN\\nROS:\\nNeuro: Pt lethargic, arouses...</td>\n",
       "    </tr>\n",
       "    <tr>\n",
       "      <th>12</th>\n",
       "      <td>1453</td>\n",
       "      <td>\\nT-SICU NURSING ADMIT NOTE\\nPT IS A 47 YO FEM...</td>\n",
       "    </tr>\n",
       "    <tr>\n",
       "      <th>13</th>\n",
       "      <td>1453</td>\n",
       "      <td>\\n\\nTSICU Nursing Progress NOte 7-11pm\\n\\nNeur...</td>\n",
       "    </tr>\n",
       "    <tr>\n",
       "      <th>14</th>\n",
       "      <td>1453</td>\n",
       "      <td>\\n\\nT/SICU NPN 11P-7A:\\n\\nPT FOLLOWED BY MICU ...</td>\n",
       "    </tr>\n",
       "    <tr>\n",
       "      <th>15</th>\n",
       "      <td>1470</td>\n",
       "      <td>\\nNursing Progress Note.\\n\\nEVENTS: Pt underwe...</td>\n",
       "    </tr>\n",
       "    <tr>\n",
       "      <th>16</th>\n",
       "      <td>1470</td>\n",
       "      <td>\\nNursing Progress Note.\\n\\nEVENTS: Pt remains...</td>\n",
       "    </tr>\n",
       "    <tr>\n",
       "      <th>17</th>\n",
       "      <td>1470</td>\n",
       "      <td>\\n\\n7p to 7a Micu Progress Note\\n\\nOverview of...</td>\n",
       "    </tr>\n",
       "    <tr>\n",
       "      <th>18</th>\n",
       "      <td>1470</td>\n",
       "      <td>\\n\\n39 yo male admitted to [**Hospital6 **] wi...</td>\n",
       "    </tr>\n",
       "    <tr>\n",
       "      <th>19</th>\n",
       "      <td>1470</td>\n",
       "      <td>\\n\\n7p to 7a Micu Progress Note\\n\\nOverview of...</td>\n",
       "    </tr>\n",
       "  </tbody>\n",
       "</table>\n",
       "</div>"
      ],
      "text/plain": [
       "    subject_id                                               text\n",
       "0           78  \\n\\nAdmission Date:  [**2778-3-24**]       Dis...\n",
       "1           78  \\nMICU ADMISSION NOTE\\nplease see fhpa for det...\n",
       "2          590  \\nMICU nursing Progress Note\\nNeuro: Pt is res...\n",
       "3          590  \\nP-MICU NURSING NOTE\\nS-VENTED.\\nO-PLEASE SEE...\n",
       "4          590  \\nSMICU nsg progress\\nNeuro- Alert and oriente...\n",
       "5          773  \\nMICU nursing admission note 5AM\\nPt is 57 yo...\n",
       "6         1194  \\n \\n \\n \\nAdmission Date:  [**3489-1-23**]   ...\n",
       "7         1194  \\n\\nCCU NPN: please see flowsheet for objectiv...\n",
       "8         1194  \\n\\nNSG NOTE\\n\\nCV: INITIAL HR 90-107. PT STAR...\n",
       "9         1245  \\n\\nNPN (0700-1930) Review of Systems:\\n\\nNeur...\n",
       "10        1245  \\nSICU NPN 11p-7a\\nS/O-\\nNeuro- pt very lethar...\n",
       "11        1245  \\nSICU NPN\\nROS:\\nNeuro: Pt lethargic, arouses...\n",
       "12        1453  \\nT-SICU NURSING ADMIT NOTE\\nPT IS A 47 YO FEM...\n",
       "13        1453  \\n\\nTSICU Nursing Progress NOte 7-11pm\\n\\nNeur...\n",
       "14        1453  \\n\\nT/SICU NPN 11P-7A:\\n\\nPT FOLLOWED BY MICU ...\n",
       "15        1470  \\nNursing Progress Note.\\n\\nEVENTS: Pt underwe...\n",
       "16        1470  \\nNursing Progress Note.\\n\\nEVENTS: Pt remains...\n",
       "17        1470  \\n\\n7p to 7a Micu Progress Note\\n\\nOverview of...\n",
       "18        1470  \\n\\n39 yo male admitted to [**Hospital6 **] wi...\n",
       "19        1470  \\n\\n7p to 7a Micu Progress Note\\n\\nOverview of..."
      ]
     },
     "execution_count": 11,
     "metadata": {},
     "output_type": "execute_result"
    }
   ],
   "source": [
    "pad_data2 = \\\n",
    "pd.read_sql(\"\"\"SELECT noteevents.subject_id,  \n",
    "                      noteevents.text \n",
    "               FROM noteevents  \n",
    "               WHERE (   noteevents.text LIKE '%ciwa%'\n",
    "                      )  \"\"\",conn)\n",
    "pad_data2.head(20)\n",
    "#print(pad_data2['text'])\n"
   ]
  },
  {
   "cell_type": "code",
   "execution_count": 13,
   "metadata": {},
   "outputs": [],
   "source": [
    "outdf2 = pd.DataFrame(columns=['DocID', 'Term', 'Start', 'End', 'DocText'])\n",
    "for did, row in pad_data2.iterrows():\n",
    "    doc=row['text']\n",
    "    did=row['subject_id']\n",
    "    for m in re.finditer(r'ciwa\\b', doc):\n",
    "        #print(m.start(), m.end(), m.group(0))\n",
    "        s=m.start()-10\n",
    "        e=m.end()+80\n",
    "        outdf2=outdf2.append({'DocID':did,'Term':m, 'Start':s, 'End':e, 'DocText':doc}, ignore_index=True)\n"
   ]
  },
  {
   "cell_type": "code",
   "execution_count": 14,
   "metadata": {},
   "outputs": [
    {
     "name": "stdout",
     "output_type": "stream",
     "text": [
      "78 ciwa  \"  prompted. ciwa scale for etoh/opiate w/d. patient appropriate, cooperative. awating urine tox   \n",
      "78 ciwa  \"  idine for ciwa/hr bp parameters, to give  if remains hypertensive and appears to be w/d ing. c  \n",
      "1571 ciwa  \"  ers /day) ciwa scale 4 at 2000 pt requesting something for [**Doctor Last Name 65**] ativan .5  \n",
      "1571 ciwa  \"   at 2100. ciwa scale for rest of shift 0.  Resp: 02 sat 92-96% on ra. ls clear. pcxr neg  cv:   \n",
      "1571 ciwa  \"  tivan per ciwa scale and agitation   \n",
      "2114 ciwa  \"  ng pt per ciwa scale.  A/P: Neuro sleepy despite no sedation.Aspiration precautions maintained  \n",
      "2114 ciwa  \"  following ciwa scale.   \n",
      "2114 ciwa  \"  following ciwa scale Med cautiously w ativan as needed. Close observation & possible 1:1 sitte  \n",
      "3424 ciwa  \"  lium, and ciwa scales. Avg req. 10mg valium q 1/2 hour, and 8mg ativan gtt per/h. Now w/ impro  \n",
      "4512 ciwa  \"  eruo: see ciwa scale pt atimes is agitated fidgeting, oriented x1 and does follows simple comm  \n",
      "4512 ciwa  \"  doses per ciwa scale. cad vss 70-80's hr with occas pvc. b/p 120-130's systolic. resp lungs ct  \n",
      "4512 ciwa  \"  cont with ciwa monitoring. provide emto. support as  needed and provide for pt safety.   \n",
      "4512 ciwa  \"   time see ciwa scale, ativan is given q 1hr, base on ciwa scale pt. does received the max of 6  \n",
      "4512 ciwa  \"  , base on ciwa scale pt. does received the max of 6mg iv with poor to fair effect, she has tre  \n",
      "4512 ciwa  \"  ording to ciwa scale, pt. is to have a psch consult ?today/tomorrow.   \n",
      "8145 ciwa  \"  t cont on ciwa scale q 2 hours with score <3, no ativan needed. per pt she last drank in decem  \n",
      "9248 ciwa  \"  ssess for ciwa scale. atropine at bedside as needed. Cont to assess.     \n",
      "9611 ciwa  \"  d  neuro: ciwa scale..see careview.   pt with increase tremors, increase restless and disorien  \n",
      "9648 ciwa  \"  -24**] on ciwa scale. (see care vue for details). pt reports having extensive etoh abuse hx wi  \n",
      "9648 ciwa  \"  leepy and ciwa scale low enough that ativan not indicated at this time.  able to move all ext.  \n",
      "9648 ciwa  \"  , monitor ciwa scale q1hr and med with ativan prn, monitor level of comfort and readress order  \n",
      "9785 ciwa  \"  placed on ciwa scale for etoh withdrawal. Pt. has 2 piv on the left arm as well as left rad al  \n",
      "12238 ciwa  \"  following ciwa scale for etoh withdrawal pt has not needed any further sedation other than sta  \n",
      "12720 ciwa  \"  *6-10**]. ciwa scal [**6-11**] overnight, continues on valium 10mg iv q6h and received 3 prn d  \n",
      "12720 ciwa  \"  c and for ciwa scale >8. surgery on consult. continue to follow and replete electrolytes.   \n",
      "13445 ciwa  \"  ro/vs and ciwa assessments       \n",
      "14041 ciwa  \"  verage on ciwa scale.pt with one restraint on since 1300 when changed from face tent to n/c as  \n",
      "14041 ciwa  \"  ec follow ciwa scale to pick up on early sigms of withdrawl.   skin coccyx red/purple  nursed   \n",
      "14099 ciwa  \"  following ciwa scale..[**1-26**]. Pt is requesting Valium every hr..initially asking for \"pain  \n",
      "14099 ciwa  \"  r despite ciwa scale 2-6. \"I need my medicine. I'm very sick [**Doctor First Name **] know\". A  \n",
      "14626 ciwa  \"  mm.Follow ciwa scale.  anxiolytics/anitdepr meds restarted [**5-14**],? reeval for ativan late  \n",
      "15278 ciwa  \"  d effect. ciwa scale 1.   cv: hr ranging 80s-100s sr/st with frequent pvcs, occas pacs, occas   \n",
      "16981 ciwa  \"  ium 8 pm( ciwa 10).ciwa [**5-23**] this shift.  cv: vss hr 86-96 nsr no ectopy. resp rate 16-3  \n",
      "16981 ciwa  \"   ciwa 10).ciwa [**5-23**] this shift.  cv: vss hr 86-96 nsr no ectopy. resp rate 16-30.  gu: f  \n",
      "17875 ciwa  \"  0430  for ciwa of 11 and 12..goal to get ciwa<10   labs; hct stable, K= 3.2 kcl 40 meq po time  \n",
      "17875 ciwa  \"  al to get ciwa<10   labs; hct stable, K= 3.2 kcl 40 meq po times 2 . pt also receiving k phs i  \n",
      "17875 ciwa  \"  es notes .ciwa scale less than 10. no diazepam given.[**12-25**] sitter with pt.perla 3 bsk.    \n",
      "17875 ciwa  \"  , monitor ciwa and medicate as needed, close supervision for safety, family meeting this after  \n",
      "17875 ciwa  \"  itation ^ ciwa scale to 19 given 1mg ativan with good relief but short duration of effect.  R   \n",
      "18468 ciwa  \"  to follow ciwa scale, valium prn.    \n",
      "19087 ciwa  \"  awal with ciwa scale. f/u with am hct results-drawn this am.   \n",
      "19239 ciwa  \"  ation and ciwa scale due to language barrier. Pt. awoke around 10pm and was tremelous and his   \n",
      "19623 ciwa  \"  d, follow ciwa scale as needed, maintain agressive pulm hygiene, follow ards protocol guidelin  \n",
      "21215 ciwa  \"    q1h for ciwa >8. On admission to the medical ICU, he noted  shakiness and sweats. He denied   \n",
      "23743 ciwa  \"  d effect. ciwa scale q 2 hours with range of 3 to 7 no ativan prn needed.  pain: pt denies pai  \n",
      "23743 ciwa  \"  re, cont. ciwa scale,cont to monitor vs, labs, q6 hour hct.     \n",
      "24697 ciwa  \"  alium per ciwa scale, currently pt is sedated on propofol at 50mcg and versed at 2mg. pt recei  \n",
      "24697 ciwa  \"  emors per ciwa scale. propofol being held due to decrease in abp to 88 systolic , dr. [**Last   \n",
      "24697 ciwa  \"  inue with ciwa scale and given valium prn for tremors   \n"
     ]
    }
   ],
   "source": [
    "for index, row in outdf2.iterrows():\n",
    "    start_snippet=int(row[2])    \n",
    "    end_snippet=int(row[3])\n",
    "    \n",
    "    print(int(row[0]), row[1].group(0), ' \" ', (row[4][start_snippet:end_snippet]).replace( '\\n', ' '), ' ')"
   ]
  },
  {
   "cell_type": "markdown",
   "metadata": {},
   "source": [
    "## Exercise\n",
    "\n",
    "* Based on the query described on page 19 of the [MIMIC-II Cookbook]( https://physionet.org/mimic2/demo/MIMICIICookBook_v1.pdf ) create a dataframe of body temperature from the database. Limit the query to a reasonable number of results\n",
    "* Create a visualization of the values"
   ]
  },
  {
   "cell_type": "markdown",
   "metadata": {},
   "source": [
    "## Exercise \n",
    "\n",
    "Come up with a visualization of the top ICD9 codes"
   ]
  },
  {
   "cell_type": "markdown",
   "metadata": {},
   "source": [
    "## Exercise\n",
    "\n",
    "If you do not know details about your data base, how might you use Pandas to discover the nature of your database? For exmaple, how might you learn the possible values for ``category`` in ``chart_events``?"
   ]
  },
  {
   "cell_type": "code",
   "execution_count": null,
   "metadata": {},
   "outputs": [],
   "source": []
  },
  {
   "cell_type": "markdown",
   "metadata": {},
   "source": [
    "## Exercise\n",
    "\n",
    "1. Use online resources (e.g. [findacode](https://www.findacode.com/search/search.php), [CMS](https://www.cms.gov/medicare/coding/ICD9providerdiagnosticcodes/codes.html)) or clinical knowledge to select patients with a disease (or diseases) of interest to you. Use the mimic cookbook or data dictionaries to identify variables of interest."
   ]
  },
  {
   "cell_type": "code",
   "execution_count": null,
   "metadata": {},
   "outputs": [],
   "source": []
  },
  {
   "cell_type": "markdown",
   "metadata": {},
   "source": [
    "<br/><br/>This material presented as part of the DeCART Data Science for the Health Science Summer Program at the University of Utah in 2017.<br/>\n",
    "Presenters : Dr. Wendy Chapman, Jianlin Shi and Kelly Peterson"
   ]
  },
  {
   "cell_type": "code",
   "execution_count": null,
   "metadata": {},
   "outputs": [],
   "source": [
    "conn2 = pymysql.connect(host=\"mysql.chpc.utah.edu\",\n",
    "                       port=3306,user=getpass.getpass(\"Enter MySQL MIMIC III user name:\"),\n",
    "                       passwd=getpass.getpass(\"Enter MySQL password for MIMICIII\"),db='mimic3')\n",
    "cursor2 = conn2.cursor()\n"
   ]
  },
  {
   "cell_type": "code",
   "execution_count": null,
   "metadata": {},
   "outputs": [],
   "source": [
    "tables = pd.read_sql(\"SELECT table_name FROM information_schema.tables where table_schema  like '%mimic3%';\", conn2)\n",
    "print(tables)"
   ]
  },
  {
   "cell_type": "code",
   "execution_count": null,
   "metadata": {},
   "outputs": [],
   "source": [
    "docs  = pd.read_sql(\"select count(*) from mimic3.NOTEEVENTS limit 10\", conn2)\n",
    "print(docs)"
   ]
  },
  {
   "cell_type": "code",
   "execution_count": null,
   "metadata": {},
   "outputs": [],
   "source": [
    "icd9_codes = pd.read_sql('SELECT * from noteevents where text like \"%fever%\" limit 10',conn)\n",
    "rows=[]\n",
    "for id,row in icd9_codes.iterrows():\n",
    "    rows.append(row['text'])"
   ]
  },
  {
   "cell_type": "code",
   "execution_count": null,
   "metadata": {},
   "outputs": [],
   "source": [
    "rows[3]"
   ]
  },
  {
   "cell_type": "code",
   "execution_count": null,
   "metadata": {},
   "outputs": [],
   "source": []
  }
 ],
 "metadata": {
  "kernelspec": {
   "display_name": "Python 3",
   "language": "python",
   "name": "python3"
  },
  "language_info": {
   "codemirror_mode": {
    "name": "ipython",
    "version": 3
   },
   "file_extension": ".py",
   "mimetype": "text/x-python",
   "name": "python",
   "nbconvert_exporter": "python",
   "pygments_lexer": "ipython3",
   "version": "3.6.4"
  }
 },
 "nbformat": 4,
 "nbformat_minor": 1
}
