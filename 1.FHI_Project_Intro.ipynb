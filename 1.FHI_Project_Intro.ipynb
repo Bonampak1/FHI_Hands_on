{
 "cells": [
  {
   "cell_type": "markdown",
   "metadata": {},
   "source": [
    "# FHI Module 7 Hands-on --Introduction"
   ]
  },
  {
   "cell_type": "markdown",
   "metadata": {},
   "source": [
    "\n",
    "## 1. Introduction of the data\n",
    "\n",
    "[MIMIC-II](https://physionet.org/mimic2/mimic2_clinical_overview.shtml) is a freely available database of ICU patients. To access the full database (now migrated to [MIMIC-III](https://www.nature.com/articles/sdata201635.pdf))  you must sign a data use agreement. However, there is a [demo data set](https://physionet.org/mimic2/demo/) based on 4000 deceased patients that can be used without signing any DUA [1].\n",
    "\n",
    "### 1.1 How to Use the MIMIC-II Database\n",
    "* [MIMIC-II Cookbook](https://physionet.org/mimic2/demo/MIMICIICookBook_v1.pdf)\n",
    "* [MIMIC Data Dictionaries](http://physionet.incor.usp.br/physiobank/database/dictionaries/)\n",
    "\n",
    "\n",
    "### 1.2 The Varieties of...Data\n",
    "The data set is very rich and so is a good resource for exploring the varieties of clinical data\n",
    "\n",
    "[database schemas at glance](https://mit-lcp.github.io/mimic-schema-spy/)\n",
    "\n",
    "Data incluces free text notes (nursing, radiology, discharg summaries, etc.), input/output events, test results, procedure codes, diagnosis codes, etc.\n",
    "\n",
    "### 1.3 How did we prepare this dataset\n",
    "\n",
    "1) **Retrieved all the MD notes**    \n",
    "    Because the family history is usually recorded by doctors. We want to find more *positive mentions of the target concepts* when creating this dataset. Why?   \n",
    "    In this dataset, there are only two types of physician notes: 'discharge summary' and 'MD notes.' The latter only has a few and doesn't have any family history mentions. So we only retrieve discharge summaries.  \n",
    "    More details of how to, can be found [Retrieve the notes from MIMIC db](advanced/Retrieve the notes from MIMIC db.ipynb)\n",
    "\n",
    "2) **Further narrowed down the notes**    \n",
    "    Used text search to identify notes that have relevant phrases like *'breast cancer', 'colon cancer', etc. (needs to be rich and complete).   \n",
    "    \n",
    "3) **Randomly pulled notes from the rest as negative samples**    \n",
    "    Manually went over the notes to make sure that there are no mentions of our interest.\n",
    "    \n",
    "4) **Preprocessed the documents**  \n",
    "    Replaced the PHI markups with mimic real information. For example, replaced '[\\*\\* Known patient lastname \\*\\*]' in an original document with a random name 'Adams'.  \n",
    "    \n",
    "5) **Annotated the dataset**    \n",
    "    Annotated the dataset using [Brat](http://brat.nlplab.org/).\n",
    "    \n",
    "6) **Packaged up**    \n",
    "    Splitted the dataset through group sampling into training (60%) and testing (40%). Zipped them into two zip files. More details of how to do it, can be found [SplitDataset.ipynb](advanced/SplitDataset.ipynb)\n",
    "\n"
   ]
  },
  {
   "cell_type": "markdown",
   "metadata": {},
   "source": [
    "\n",
    "## 2. Explore the data\n",
    "\n",
    "Let's take a look at the annotated data, see how it looks like."
   ]
  },
  {
   "cell_type": "code",
   "execution_count": 1,
   "metadata": {},
   "outputs": [],
   "source": [
    "# import packages that we will need\n",
    "from nlp_pneumonia_utils import read_doc_annotations\n",
    "from nlp_pneumonia_utils import DocumentClassifier\n",
    "from nlp_pneumonia_utils import list_errors\n",
    "from visual import snippets_markup\n",
    "from visual import view_pycontext_output\n",
    "from visual import display_doc_text\n",
    "# packages for interaction\n",
    "from IPython.display import display, HTML\n",
    "import ipywidgets"
   ]
  },
  {
   "cell_type": "markdown",
   "metadata": {},
   "source": [
    "### 2.1 Load our training set"
   ]
  },
  {
   "cell_type": "code",
   "execution_count": 2,
   "metadata": {},
   "outputs": [
    {
     "name": "stdout",
     "output_type": "stream",
     "text": [
      "Reading annotations from file : data/bc_train.zip\n",
      "Opening local file : data/bc_train.zip\n",
      "Total Annotated Documents : 60\n"
     ]
    }
   ],
   "source": [
    "# first we need to tell which type is considered for positive document\n",
    "pos_doc_type='FAM_BREAST_CA_DOC'\n",
    "\n",
    "annotated_doc_map = read_doc_annotations(archive_file='data/bc_train.zip', pos_type=pos_doc_type)\n",
    "\n",
    "# let's also use a simple list of documents as well as this map\n",
    "annotated_docs = list(annotated_doc_map.values())\n",
    "\n",
    "print('Total Annotated Documents : {0}'.format(len(annotated_docs)))"
   ]
  },
  {
   "cell_type": "markdown",
   "metadata": {},
   "source": [
    "### 2.2 See what have been annotated"
   ]
  },
  {
   "cell_type": "code",
   "execution_count": 3,
   "metadata": {},
   "outputs": [
    {
     "data": {
      "text/html": [
       "<html><div style=\"background-color:#f9f9f9;padding-left:10px;width: 877px; \"><table width=100% ><col style=\"width:25%\"><col style=\"width:75%\"></div><tr><th style=\"text-align:center\">document name</th><th style=\"text-align:center\">Snippets</th></table></div><div style=\"background-color:#f9f9f9;padding:10px; width: 900px; height: 400px; overflow-y: scroll;\"><table width=100% ><col style=\"width:25%\"><col style=\"width:75%\"><tr><td style=\"text-align:left\">24880</td><td></td></tr><tr><td></td><td style=\"text-align:left\">y is significant only for a  \n",
       "maternal niece with <span style=\"color: blue;\">breast cancer</span> at the age of 78.  \n",
       "\n",
       " \n",
       "Physical Exam:\n",
       "Vitals - 97</td></tr><tr><td style=\"text-align:left\">5834</td><td></td></tr><tr><td></td><td style=\"text-align:left\">y History:\n",
       "Father with lung ca at 76, mother with <span style=\"color: blue;\">breast ca</span> at 67, one \n",
       "grandson with cystic fibrosis.\n",
       " \n",
       "Phys</td></tr><tr><td style=\"text-align:left\">24389</td><td></td></tr><tr><td></td><td style=\"text-align:left\">.\n",
       "\n",
       " \n",
       "Family History:\n",
       "Family History:\n",
       "One sister:  <span style=\"color: blue;\">Breast cancer</span> and colon cancer. \n",
       "One aughter:  Breast cancer an</td></tr><tr><td></td><td style=\"text-align:left\">:  Breast cancer and colon cancer. \n",
       "One aughter:  <span style=\"color: blue;\">Breast cancer</span> and colon cancer, thrombocytosis.  \n",
       "Other daughte</td></tr><tr><td style=\"text-align:left\">26440</td><td></td></tr><tr><td></td><td style=\"text-align:left\">of a stroke.\n",
       "She has a daughter living at 54 with <span style=\"color: blue;\">breast cancer</span>.\n",
       "\n",
       "PHYSICAL EXAMINATION ON PRESENTATION:   Physica</td></tr><tr><td style=\"text-align:left\">20838</td><td></td></tr><tr><td></td><td style=\"text-align:left\">ad \n",
       "non-Hodgkin's lymphoma. She had a sister with <span style=\"color: blue;\">breast cancer</span>. Her \n",
       "mother died of melanoma. She has one daught</td></tr><tr><td style=\"text-align:left\">26546</td><td></td></tr><tr><td></td><td style=\"text-align:left\"> \n",
       "\n",
       " \n",
       "Family History:\n",
       "She had a sister who died of <span style=\"color: blue;\">breast cancer</span> at age 57. Her \n",
       "brother died of leukemia at age 5</td></tr><tr><td style=\"text-align:left\">33094</td><td></td></tr><tr><td></td><td style=\"text-align:left\">xcept for maternal \n",
       "grandmother with a history of <span style=\"color: blue;\">breast cancer</span>. \n",
       " \n",
       "Physical Exam:\n",
       "Tc   96   BP   122/38   HR  96</td></tr><tr><td style=\"text-align:left\">14401</td><td></td></tr><tr><td></td><td style=\"text-align:left\">ne.\n",
       "\n",
       "FAMILY HISTORY:  Coronary artery disease and <span style=\"color: blue;\">breast cancer</span>.\n",
       "No colon cancer of inflammatory bowel disease.\n",
       "\n",
       "</td></tr><tr><td style=\"text-align:left\">12121</td><td></td></tr><tr><td></td><td style=\"text-align:left\">opausal\" \n",
       "on testosterone supplement\n",
       "Great aunt - <span style=\"color: blue;\">breast cancer</span>\n",
       "aunt - cervical cancer\n",
       "\"history of clotting in le</td></tr><tr><td style=\"text-align:left\">10533</td><td></td></tr><tr><td></td><td style=\"text-align:left\"> induced sputum MAC+, s/p 2 weeks levo  \n",
       "#. Right <span style=\"color: blue;\">breast cancer</span>, s/p lumpectomy and radiation therapy in \n",
       "1947  \n",
       "</td></tr><tr><td></td><td style=\"text-align:left\">Rare  \n",
       "Illicits: None  \n",
       "\n",
       " \n",
       "Family History:\n",
       "Mother-<span style=\"color: blue;\">breast cancer</span>\n",
       "Fahter-colon cancer\n",
       "Grandmother-cancer\n",
       " \n",
       "Physical</td></tr><tr><td></td><td style=\"text-align:left\">iven patient's history there is also \n",
       "possibility <span style=\"color: blue;\">malignant effusion (breast</span> or lung) or radiation \n",
       "induced pericarditis. Give</td></tr><tr><td style=\"text-align:left\">29530</td><td></td></tr><tr><td></td><td style=\"text-align:left\">ug use.\n",
       " \n",
       "Family History:\n",
       "Per OMR, mother died of <span style=\"color: blue;\">breast cancer</span> at age 36, brother died of \n",
       "pancreatic cancer at </td></tr><tr><td style=\"text-align:left\">9016</td><td></td></tr><tr><td></td><td style=\"text-align:left\">east cancer at age \n",
       "62 and 2 cousins also dx with <span style=\"color: blue;\">breast cancer</span> around age 50.\n",
       " \n",
       "Physical Exam:\n",
       "T 101.9 P 95 RR 2</td></tr><tr><td style=\"text-align:left\">24008</td><td></td></tr><tr><td></td><td style=\"text-align:left\">istory:\n",
       "Father, 65, w/ prostate ca\n",
       "Mother, 66, w/ <span style=\"color: blue;\">breast ca</span>, sister w/ lupus\n",
       " \n",
       "Physical Exam:\n",
       "Vital signs- 97</td></tr><tr><td style=\"text-align:left\">33349</td><td></td></tr><tr><td></td><td style=\"text-align:left\"> as a secretary.\n",
       " \n",
       "Family History:\n",
       "Her mother had <span style=\"color: blue;\">breast CA</span> years ago and is well over 10 yrs from \n",
       "diagnosis</td></tr><tr><td style=\"text-align:left\">27562</td><td></td></tr><tr><td></td><td style=\"text-align:left\">t-time with \n",
       "caterers. \n",
       " \n",
       "Family History:\n",
       "Mother- <span style=\"color: blue;\">breast cancer</span>, stomach cancer Father: CVA, heart disease\n",
       " \n",
       "Phys</td></tr></table></div></html>"
      ],
      "text/plain": [
       "<IPython.core.display.HTML object>"
      ]
     },
     "metadata": {},
     "output_type": "display_data"
    }
   ],
   "source": [
    "#check notes have positive mentions\n",
    "\n",
    "# limit the number of documents to display\n",
    "\n",
    "total_display=15\n",
    "\n",
    "pos_docs=dict((k, v) for k, v in annotated_doc_map.items() if  v.annotations[0].type ==pos_doc_type)\n",
    "\n",
    "display(HTML(snippets_markup(dict(list(pos_docs.items())[:total_display]),'FAM_BREAST_CA', 900,400)))"
   ]
  },
  {
   "cell_type": "markdown",
   "metadata": {},
   "source": [
    "See where the snippets came from:"
   ]
  },
  {
   "cell_type": "code",
   "execution_count": 5,
   "metadata": {
    "scrolled": true
   },
   "outputs": [
    {
     "data": {
      "application/vnd.jupyter.widget-view+json": {
       "model_id": "1e3236a5e1764155989d31ec8904d1cf",
       "version_major": 2,
       "version_minor": 0
      },
      "text/html": [
       "<p>Failed to display Jupyter Widget of type <code>interactive</code>.</p>\n",
       "<p>\n",
       "  If you're reading this message in the Jupyter Notebook or JupyterLab Notebook, it may mean\n",
       "  that the widgets JavaScript is still loading. If this message persists, it\n",
       "  likely means that the widgets JavaScript library is either not installed or\n",
       "  not enabled. See the <a href=\"https://ipywidgets.readthedocs.io/en/stable/user_install.html\">Jupyter\n",
       "  Widgets Documentation</a> for setup instructions.\n",
       "</p>\n",
       "<p>\n",
       "  If you're reading this message in another frontend (for example, a static\n",
       "  rendering on GitHub or <a href=\"https://nbviewer.jupyter.org/\">NBViewer</a>),\n",
       "  it may mean that your frontend doesn't currently support widgets.\n",
       "</p>\n"
      ],
      "text/plain": [
       "interactive(children=(IntSlider(value=0, description='i', max=31), Output()), _dom_classes=('widget-interact',))"
      ]
     },
     "metadata": {},
     "output_type": "display_data"
    }
   ],
   "source": [
    "display_doc_text(pos_docs,300)"
   ]
  },
  {
   "cell_type": "markdown",
   "metadata": {},
   "source": [
    "### 2.3 See negative documents"
   ]
  },
  {
   "cell_type": "code",
   "execution_count": 6,
   "metadata": {},
   "outputs": [
    {
     "data": {
      "application/vnd.jupyter.widget-view+json": {
       "model_id": "0afd2b713237463fbfce4fd2e0c3db02",
       "version_major": 2,
       "version_minor": 0
      },
      "text/html": [
       "<p>Failed to display Jupyter Widget of type <code>interactive</code>.</p>\n",
       "<p>\n",
       "  If you're reading this message in the Jupyter Notebook or JupyterLab Notebook, it may mean\n",
       "  that the widgets JavaScript is still loading. If this message persists, it\n",
       "  likely means that the widgets JavaScript library is either not installed or\n",
       "  not enabled. See the <a href=\"https://ipywidgets.readthedocs.io/en/stable/user_install.html\">Jupyter\n",
       "  Widgets Documentation</a> for setup instructions.\n",
       "</p>\n",
       "<p>\n",
       "  If you're reading this message in another frontend (for example, a static\n",
       "  rendering on GitHub or <a href=\"https://nbviewer.jupyter.org/\">NBViewer</a>),\n",
       "  it may mean that your frontend doesn't currently support widgets.\n",
       "</p>\n"
      ],
      "text/plain": [
       "interactive(children=(IntSlider(value=0, description='i', max=27), Output()), _dom_classes=('widget-interact',))"
      ]
     },
     "metadata": {},
     "output_type": "display_data"
    }
   ],
   "source": [
    "neg_docs=dict((k, v) for k, v in annotated_doc_map.items() if  v.annotations[0].type !=pos_doc_type)\n",
    "\n",
    "# comment the line below to clear the output cell\n",
    "display_doc_text(neg_docs,300)"
   ]
  },
  {
   "cell_type": "markdown",
   "metadata": {},
   "source": [
    "## References:\n",
    "1. MIMIC-III, a freely accessible critical care database. Johnson AEW, Pollard TJ, Shen L, Lehman L, Feng M, Ghassemi M, Moody B, Szolovits P, Celi LA, and Mark RG. Scientific Data (2016). DOI: 10.1038/sdata.2016.35. Available at: http://www.nature.com/articles/sdata201635"
   ]
  },
  {
   "cell_type": "code",
   "execution_count": null,
   "metadata": {},
   "outputs": [],
   "source": []
  }
 ],
 "metadata": {
  "anaconda-cloud": {},
  "kernelspec": {
   "display_name": "Python [default]",
   "language": "python",
   "name": "python3"
  },
  "language_info": {
   "codemirror_mode": {
    "name": "ipython",
    "version": 3
   },
   "file_extension": ".py",
   "mimetype": "text/x-python",
   "name": "python",
   "nbconvert_exporter": "python",
   "pygments_lexer": "ipython3",
   "version": "3.6.3"
  }
 },
 "nbformat": 4,
 "nbformat_minor": 2
}
