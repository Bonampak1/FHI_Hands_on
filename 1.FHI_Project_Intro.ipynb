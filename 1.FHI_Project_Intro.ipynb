{
 "cells": [
  {
   "cell_type": "markdown",
   "metadata": {},
   "source": [
    "# FHI Module 7 Hands-on --Introduction"
   ]
  },
  {
   "cell_type": "markdown",
   "metadata": {},
   "source": [
    "\n",
    "## 1. Introduction of the data\n",
    "\n",
    "[MIMIC-II](https://physionet.org/mimic2/mimic2_clinical_overview.shtml) is a freely available database of ICU patients. To access the full database (now migrated to [MIMIC-III](https://www.nature.com/articles/sdata201635.pdf))  you must sign a data use agreement. However, there is a [demo data set](https://physionet.org/mimic2/demo/) based on 4000 deceased patients that can be used without signing any DUA [1].\n",
    "\n",
    "### 1.1 How to Use the MIMIC-II Database\n",
    "* [MIMIC-II Cookbook](https://physionet.org/mimic2/demo/MIMICIICookBook_v1.pdf)\n",
    "* [MIMIC Data Dictionaries](http://physionet.incor.usp.br/physiobank/database/dictionaries/)\n",
    "\n",
    "\n",
    "### 1.2 The Varieties of...Data\n",
    "The data set is very rich and so is a good resource for exploring the varieties of clinical data\n",
    "\n",
    "[database schemas at glance](https://mit-lcp.github.io/mimic-schema-spy/)\n",
    "\n",
    "Data incluces free text notes (nursing, radiology, discharg summaries, etc.), input/output events, test results, procedure codes, diagnosis codes, etc.\n",
    "\n",
    "### 1.3 How did we prepare this dataset\n",
    "\n",
    "1) **Retrieved all the MD notes**    \n",
    "    Because the family history is usually recorded by doctors. We want to find more *positive mentions of the target concepts* when creating this dataset. Why?   \n",
    "    In this dataset, there are only two types of physician notes: 'discharge summary' and 'MD notes.' The latter only has a few and doesn't have any family history mentions. So we only retrieve discharge summaries.  \n",
    "    More details of how to, can be found [Retrieve the notes from MIMIC db](advanced/Retrieve the notes from MIMIC db.ipynb)\n",
    "\n",
    "2) **Further narrowed down the notes**    \n",
    "    Used text search to identify notes that have relevant phrases like *'breast cancer', 'colon cancer', etc. (needs to be rich and complete).   \n",
    "    \n",
    "3) **Randomly pulled notes from the rest as negative samples**    \n",
    "    Manually went over the notes to make sure that there are no mentions of our interest.\n",
    "    \n",
    "4) **Preprocessed the documents**  \n",
    "    Replaced the PHI markups with mimic real information. For example, replaced '[\\*\\* Known patient lastname \\*\\*]' in an original document with a random name 'Adams'.  \n",
    "    \n",
    "5) **Annotated the dataset**    \n",
    "    Annotated the dataset using [Brat](http://brat.nlplab.org/).\n",
    "    \n",
    "6) **Packaged up**    \n",
    "    Splitted the dataset through group sampling into training (60%) and testing (40%). Zipped them into two zip files. More details of how to do it, can be found [SplitDataset.ipynb](advanced/SplitDataset.ipynb)\n",
    "\n"
   ]
  },
  {
   "cell_type": "markdown",
   "metadata": {},
   "source": [
    "\n",
    "## 2. Explore the data\n",
    "\n",
    "Let's take a look at the annotated data, see how it looks like."
   ]
  },
  {
   "cell_type": "code",
   "execution_count": 1,
   "metadata": {
    "collapsed": false
   },
   "outputs": [],
   "source": [
    "# import packages that we will need\n",
    "from nlp_pneumonia_utils import read_doc_annotations\n",
    "from nlp_pneumonia_utils import DocumentClassifier\n",
    "from nlp_pneumonia_utils import list_errors\n",
    "from visual import snippets_markup\n",
    "from visual import view_pycontext_output\n",
    "from visual import display_doc_text\n",
    "# packages for interaction\n",
    "from IPython.display import display, HTML\n",
    "import ipywidgets"
   ]
  },
  {
   "cell_type": "markdown",
   "metadata": {},
   "source": [
    "### 2.1 Load our training set"
   ]
  },
  {
   "cell_type": "code",
   "execution_count": 7,
   "metadata": {
    "collapsed": false
   },
   "outputs": [
    {
     "name": "stdout",
     "output_type": "stream",
     "text": [
      "Reading annotations from file : data/cc_train.zip\n",
      "Opening local file : data/cc_train.zip\n",
      "Total Annotated Documents : 60\n"
     ]
    }
   ],
   "source": [
    "# first we need to tell which type is considered for positive document\n",
    "pos_doc_type='FAM_BREAST_CA_DOC'\n",
    "\n",
    "annotated_doc_map = read_doc_annotations(archive_file='data/cc_train.zip', pos_type=pos_doc_type)\n",
    "\n",
    "# let's also use a simple list of documents as well as this map\n",
    "annotated_docs = list(annotated_doc_map.values())\n",
    "\n",
    "print('Total Annotated Documents : {0}'.format(len(annotated_docs)))"
   ]
  },
  {
   "cell_type": "markdown",
   "metadata": {},
   "source": [
    "### 2.2 See what have been annotated"
   ]
  },
  {
   "cell_type": "code",
   "execution_count": 3,
   "metadata": {
    "collapsed": false
   },
   "outputs": [
    {
     "data": {
      "text/html": [
       "<html><div style=\"background-color:#f9f9f9;padding-left:10px;width: 877px; \"><table width=100% ><col style=\"width:25%\"><col style=\"width:75%\"></div><tr><th style=\"text-align:center\">document name</th><th style=\"text-align:center\">Snippets</th></table></div><div style=\"background-color:#f9f9f9;padding:10px; width: 900px; height: 400px; overflow-y: scroll;\"><table width=100% ><col style=\"width:25%\"><col style=\"width:75%\"><tr><td style=\"text-align:left\">24389</td><td></td></tr><tr><td></td><td style=\"text-align:left\">.\n",
       "\n",
       " \n",
       "Family History:\n",
       "Family History:\n",
       "One sister:  <span style=\"color: blue;\">Breast cancer</span> and colon cancer. \n",
       "One aughter:  Breast cancer an</td></tr><tr><td></td><td style=\"text-align:left\">:  Breast cancer and colon cancer. \n",
       "One aughter:  <span style=\"color: blue;\">Breast cancer</span> and colon cancer, thrombocytosis.  \n",
       "Other daughte</td></tr><tr><td style=\"text-align:left\">14401</td><td></td></tr><tr><td></td><td style=\"text-align:left\">ne.\n",
       "\n",
       "FAMILY HISTORY:  Coronary artery disease and <span style=\"color: blue;\">breast cancer</span>.\n",
       "No colon cancer of inflammatory bowel disease.\n",
       "\n",
       "</td></tr><tr><td style=\"text-align:left\">27562</td><td></td></tr><tr><td></td><td style=\"text-align:left\">t-time with \n",
       "caterers. \n",
       " \n",
       "Family History:\n",
       "Mother- <span style=\"color: blue;\">breast cancer</span>, stomach cancer Father: CVA, heart disease\n",
       " \n",
       "Phys</td></tr><tr><td style=\"text-align:left\">24780</td><td></td></tr><tr><td></td><td style=\"text-align:left\">sion. Her brother is healthy while her sister has <span style=\"color: blue;\">breast  cancer</span>. She does not have any biological children but sh</td></tr><tr><td style=\"text-align:left\">7149</td><td></td></tr><tr><td></td><td style=\"text-align:left\">llicit drug use.   \n",
       " \n",
       "Family History:\n",
       "Mother with <span style=\"color: blue;\">breast cancer</span>. His father died of an unknown cardiac \n",
       "event at </td></tr><tr><td style=\"text-align:left\">11515</td><td></td></tr><tr><td></td><td style=\"text-align:left\">rom trauma, brother had lung\n",
       " cancer, sister with <span style=\"color: blue;\">breast cancer</span>.  Another brother suffered \n",
       "from\n",
       " colon cancer in</td></tr><tr><td style=\"text-align:left\">9016</td><td></td></tr><tr><td></td><td style=\"text-align:left\">east cancer at age \n",
       "62 and 2 cousins also dx with <span style=\"color: blue;\">breast cancer</span> around age 50.\n",
       " \n",
       "Physical Exam:\n",
       "T 101.9 P 95 RR 2</td></tr><tr><td style=\"text-align:left\">934</td><td></td></tr><tr><td></td><td style=\"text-align:left\"> to be 88 years of age, and she\n",
       "has a sister with <span style=\"color: blue;\">breast cancer</span>.\n",
       "\n",
       "PHYSICAL EXAMINATION:  In general, the patient </td></tr><tr><td style=\"text-align:left\">14357</td><td></td></tr><tr><td></td><td style=\"text-align:left\">ory of tobacco \n",
       "use. \n",
       "\n",
       " \n",
       "Family History:\n",
       "Sister - <span style=\"color: blue;\">breast cancer</span>-age 40\n",
       "\n",
       " \n",
       "Physical Exam:\n",
       "GENERAL:  jaundiced, thi</td></tr><tr><td style=\"text-align:left\">26440</td><td></td></tr><tr><td></td><td style=\"text-align:left\">of a stroke.\n",
       "She has a daughter living at 54 with <span style=\"color: blue;\">breast cancer</span>.\n",
       "\n",
       "PHYSICAL EXAMINATION ON PRESENTATION:   Physica</td></tr><tr><td style=\"text-align:left\">24008</td><td></td></tr><tr><td></td><td style=\"text-align:left\">istory:\n",
       "Father, 65, w/ prostate ca\n",
       "Mother, 66, w/ <span style=\"color: blue;\">breast ca</span>, sister w/ lupus\n",
       " \n",
       "Physical Exam:\n",
       "Vital signs- 97</td></tr><tr><td style=\"text-align:left\">12598</td><td></td></tr><tr><td></td><td style=\"text-align:left\">MILY HISTORY:  Father with MI at 60.  Mother with <span style=\"color: blue;\">breast cancer</span>.  Sister with breast cancer.\n",
       "\n",
       "SOCIAL HISTORY:  Pa</td></tr><tr><td></td><td style=\"text-align:left\">I at 60.  Mother with breast cancer.  Sister with <span style=\"color: blue;\">breast cancer</span>.\n",
       "\n",
       "SOCIAL HISTORY:  Patient is a bus driver.  Posi</td></tr><tr><td style=\"text-align:left\">9400</td><td></td></tr><tr><td></td><td style=\"text-align:left\">ool incontinence  \n",
       "\n",
       " \n",
       "Social History:\n",
       "Mother with <span style=\"color: blue;\">breast cancer</span> at age 58.  \n",
       "Father with lung cancer at age 68.  </td></tr><tr><td style=\"text-align:left\">30807</td><td></td></tr><tr><td></td><td style=\"text-align:left\">\n",
       " \n",
       "Family History:\n",
       "Remarkable for an aunt who had <span style=\"color: blue;\">breast cancer</span> in her 70s, a \n",
       "cousin who had breast cancer, the </td></tr><tr><td></td><td style=\"text-align:left\">o had breast cancer in her 70s, a \n",
       "cousin who had <span style=\"color: blue;\">breast cancer</span>, the age is unknown; and an uncle \n",
       "who died of so</td></tr><tr><td style=\"text-align:left\">26546</td><td></td></tr><tr><td></td><td style=\"text-align:left\"> \n",
       "\n",
       " \n",
       "Family History:\n",
       "She had a sister who died of <span style=\"color: blue;\">breast cancer</span> at age 57. Her \n",
       "brother died of leukemia at age 5</td></tr></table></div></html>"
      ],
      "text/plain": [
       "<IPython.core.display.HTML object>"
      ]
     },
     "metadata": {},
     "output_type": "display_data"
    }
   ],
   "source": [
    "#check notes have positive mentions\n",
    "\n",
    "# limit the number of documents to display\n",
    "\n",
    "total_display=15\n",
    "\n",
    "pos_docs=dict((k, v) for k, v in annotated_doc_map.items() if  v.annotations[0].type ==pos_doc_type)\n",
    "\n",
    "display(HTML(snippets_markup(dict(list(pos_docs.items())[:total_display]),'FAM_BREAST_CA', 900,400)))"
   ]
  },
  {
   "cell_type": "markdown",
   "metadata": {},
   "source": [
    "See where the snippets came from:"
   ]
  },
  {
   "cell_type": "code",
   "execution_count": 4,
   "metadata": {
    "collapsed": false
   },
   "outputs": [
    {
     "name": "stdout",
     "output_type": "stream",
     "text": [
      "document name: 17641\n"
     ]
    },
    {
     "data": {
      "text/html": [
       "<div style=\" height: 300px; overflow-y: scroll;\">Admission Date:  1970-7-5              Discharge Date:   1970-7-7<br/> <br/>Date of Birth:  1890-10-4             Sex:   F<br/> <br/>Service: MEDICINE<br/> <br/>Allergies: <br/>Patient recorded as having No Known Allergies to Drugs<br/> <br/>Attending:Zakeria <br/>Chief Complaint:<br/>CC: SOB<br/><br/> <br/>Major Surgical or Invasive Procedure:<br/>Cardiac catheterization on 1970-7-5<br/>Intubated 1970-7-5<br/>Extubated 1970-7-7<br/> <br/>History of Present Illness:<br/>HPI: 79 yo Haitian female with h/o breast ca and possible lung <br/>CA presents with sudden onset of SOB. Daughter states that she <br/>thought her O2 (uses home o2) was not working, said she felt SOB <br/>and called out for help. She did not note any chest pain at the <br/>time. EMS was called and she was intubated in field. She was <br/>hypotensive in the ER (btwn 1am -3 am bp 70-118/38-94 and HR <br/>66-84). An R IJ line was attempted to be inserted at this time, <br/>but caused a hematoma. Pt was still hypotensive so left sc line <br/>was put in and caused a second hematoma. She was started on <br/>dopamine in the ER and then changed to levophed b/c she got <br/>tachycardic. An EKG showed ST elevations in leads I, II AVR and <br/>V2-V6. Pt was taken to cath emergently d/t ST changes and <br/>hypotension thought to be from cardiogenic shock.  <br/><br/> <br/>Past Medical History:<br/>PMH: unclear, daughter is a poor historian, has h/o breast ca <br/>and possible pulmonary fibrosis, may also have dx of lung ca, <br/>HTN <br/> <br/>Social History:<br/>Social hx: pt lives at home with daughter, has been noted to be <br/>very depressed lately d/t the loss of two family members. Does <br/>not drink or smoke. <br/> <br/>Family History:<br/>Fam hx: father had angina <br/> <br/>Physical Exam:<br/>PE:  <br/>Tm 97.7 Tc 97.3 BP assisted diastolic 123-145, mean arterial bp <br/>73-87 P 64-76 R 18-26 O2 sat 98% I/O 1043/423  <br/>Gen: awakes to pain  <br/>HEENT: PERRL, hematoma on right neck covered by bandage, large <br/>nodule present on left side of neck, feels somewhat soft  <br/>Pulm; coars rhonchorous breathe sounds bilaterally  <br/>Chest: right breast removed s/p mastectomy  <br/>Cardio; difficult to hear heart with loud breathe sounds  <br/>Abd: soft, ND, breathe sounds transmitted to abd  <br/>Ext: feet feel cold, pulses hard to palpate  <br/>Skin: Where left subclavian line placed there is a large <br/>hematoma, that is soft to push on  <br/><br/> <br/>Pertinent Results:<br/>Cath showed:  <br/>LMCA, LCX: no significant disease  <br/>LAD: mild diffuse irregularirties  <br/>RCA: 50-60% ostial with catheter damping  <br/>LV: LVEF 20% with apical ballooning  <br/>--moderately elevated left sided and severely elevated right <br/>sided filling pressures; severe pulm htn, severely depressed CO, <br/>apical ballooning syndrom vs acute myocarditis.  <br/>co 2.6  <br/>ci 1.5  <br/>MAPs: RA 19 MD Number 12487 22 AO 64  <br/>labs at admit:<br/>pH  <br/>7.30 pCO2  <br/>44 pO2  <br/>229 HCO3  <br/>23 BaseXS  <br/>-4  <br/><br/> <br/>na 132 cl 104 bun 14 gluc 89 AGap=11  <br/>k 4.4 hco3 21 cr 0.9  <br/>CK: 197 MB: 26 MBI: 13.2 Trop-*T*: 1.46  <br/>Ca: 7.3 Mg: 1.5 P: 3.7  <br/>wbc 19.3 (prev was 14.7) hgb 11.2 D plts 245  <br/>hct 35.6 (previous was 43.8)  <br/>PT: 14.5 PTT: 38.7 INR: 1.4  <br/><br/>CXR: satisfactory ETT placement, diffuse bilateral alveolar <br/>opacities. Differential includes multifolca PNA, ARDS, pulm <br/>edema. Large left and probable right sided pleural effusion. <br/>Massive gastric distension. <br/>.<br/>Echo 7-7: Conclusions:  <br/>The left atrium is normal in size. There is mild symmetric left <br/>ventricular hypertrophy with normal cavity size and systolic <br/>function (LVEF>55%). Due to suboptimal technical quality, a <br/>focal wall motion abnormality cannot be fully excluded. Right <br/>ventricular chamber size is normal. Right ventricular systolic <br/>function appears depressed. There is a prominence of the <br/>non-coronary sinus. The ascending aorta is moderately dilated. <br/>The aortic valve leaflets (3) are mildly thickened but aortic <br/>stenosis is not present. Mild (1+) aortic regurgitation is seen. <br/>The mitral valve appears structurally normal with trivial mitral <br/>regurgitation. The estimated pulmonary artery systolic pressure  <br/><br/>is normal.  <br/><br/>.<br/>1970-7-7 05:15AM BLOOD WBC-16.4* RBC-2.83* Hgb-8.2* Hct-23.8* <br/>MCV-84 MCH-28.8 MCHC-34.3 RDW-14.7 Plt Ct-119*<br/>1970-7-6 08:31PM BLOOD Hct-25.6*<br/>1970-7-6 11:42AM BLOOD Hct-28.0*<br/>1970-7-6 05:16AM BLOOD WBC-12.8* RBC-3.36* Hgb-9.4* Hct-27.8* <br/>MCV-83 MCH-27.9 MCHC-33.7 RDW-14.5 Plt Ct-147*<br/>1970-7-5 11:20PM BLOOD Hct-29.5*<br/>1970-7-5 04:05PM BLOOD WBC-13.1* RBC-3.93* Hgb-10.8* Hct-32.9* <br/>MCV-84 MCH-27.6 MCHC-32.9 RDW-14.3 Plt Ct-184<br/>1970-7-5 04:11AM BLOOD WBC-19.3* RBC-4.15* Hgb-11.2*# Hct-35.6* <br/>MCV-86 MCH-27.0 MCHC-31.5 RDW-13.9 Plt Ct-245<br/>1970-7-5 12:10AM BLOOD WBC-14.7* RBC-5.07 Hgb-14.4 Hct-43.8 <br/>MCV-87 MCH-28.5 MCHC-32.9 RDW-13.6 Plt Ct-302<br/>1970-7-7 05:15AM BLOOD Plt Ct-119*<br/>1970-7-6 05:16AM BLOOD Plt Ct-147*<br/>1970-7-5 12:10AM BLOOD Plt Ct-302<br/>1970-7-7 05:15AM BLOOD Glucose-92 UreaN-20 Creat-1.0 Na-134 <br/>K-3.8 Cl-105 HCO3-22 AnGap-11<br/>1970-7-6 05:16AM BLOOD Glucose-100 UreaN-17 Creat-1.0 Na-134 <br/>K-3.9 Cl-104 HCO3-21* AnGap-13<br/>1970-7-5 12:10AM BLOOD UreaN-14 Creat-1.2*<br/>1970-7-6 05:16AM BLOOD CK(CPK)-158*<br/>1970-7-5 04:05PM BLOOD CK(CPK)-238*<br/>1970-7-5 04:11AM BLOOD CK(CPK)-197*<br/>1970-7-5 12:10AM BLOOD Amylase-157*<br/>1970-7-6 05:16AM BLOOD CK-MB-9 cTropnT-0.51*<br/>1970-7-5 04:05PM BLOOD CK-MB-20* MB Indx-8.4* cTropnT-0.86*<br/>1970-7-5 04:11AM BLOOD CK-MB-26* MB Indx-13.2* cTropnT-1.46*<br/>1970-7-5 12:10AM BLOOD ASA-NEG Ethanol-NEG Acetmnp-13.1 <br/>Bnzodzp-NEG Barbitr-NEG Tricycl-NEG<br/>1970-7-7 12:22PM BLOOD Type-ART pO2-56* pCO2-47* pH-7.32* <br/>calHCO3-25 Base XS--2<br/>1970-7-7 05:19AM BLOOD Type-ART pO2-126* pCO2-40 pH-7.39 <br/>calHCO3-25 Base XS-0<br/>1970-7-5 01:58AM BLOOD Type-ART Rates-/16 Tidal V-500 PEEP-5 O2 <br/>Flow-100 pO2-129* pCO2-55* pH-7.22* calHCO3-24 Base XS--5 <br/>Intubat-INTUBATED<br/>1970-7-5 10:43AM BLOOD Lactate-1.5<br/>1970-7-5 04:45AM BLOOD Lactate-1.9<br/> <br/>Brief Hospital Course:<br/>*SOB: This 79 yo Haitian female with h/o breast ca and possible <br/>lung CA presented with sudden onset of SOB. EMS was called and <br/>she was intubated in field. She was hypotensive in the ER (btwn <br/>1am -3 am bp 70-118/38-94 and HR 66-84). An R IJ line was <br/>attempted to be inserted at this time, but caused a hematoma. Pt <br/>was still hypotensive so a left SC line was put in and caused a <br/>second hematoma. She was started on dopamine in the ER and then <br/>changed to levophed b/c she got tachycardic. An EKG showed ST <br/>elevations in leads I, II AVR and V2-V6. Pt was taken to cath <br/>emergently d/t ST changes and hypotension thought to be from <br/>cardiogenic shock.  <br/>The cath showed:  <br/>LMCA, LCX: no significant disease  <br/>LAD: mild diffuse irregularirties  <br/>RCA: 50-60% ostial with catheter damping  <br/>LV: LVEF 20% with apical ballooning  <br/>--moderately elevated left sided and severely elevated right <br/>sided filling pressures; severe pulm htn, severely depressed CO, <br/>apical ballooning syndrom vs acute myocarditis.  <br/>co 2.6  ci 1.5  <br/>MAPs: RA 19 MD Number 12487 22 AO 64  <br/>An echo was done during the cath that showed no evidence of a <br/>pericardial effusion.  <br/>A balloon pump was also placed at the time of cath. Her groin <br/>was oozing at the cath site. Pt was given protamine to reverse <br/>the heparin. It was decided to hold her heparin drip until the <br/>AM and then start at a low dose b/c of hematomas and bleeding. <br/>It was thought that the patient had Takotsubo cardiomyopathy <br/>secondary to the stress of watching the news related to <br/>terrorist activity in Grand Rapids. ASA, plavix and beta-blocers were <br/>not started because the patient had clean coronaries. One day  <br/>after admission the balloon pump was pulled. An echo was done <br/>two days after admission and showed mild symmetric left <br/>ventricular hypertrophy with preserved global systolic function. <br/>Right ventricular free wall hypokinesis c/w possible ischemia <br/>(given normal PA systolic pressure). Mild aortic regurgitation.<br/>  Pt's CXR at admission showed possible ARDS, pneumonia or <br/>pulmonary edema. Pt could have had fluid overload in lungs <br/>secondary to systolic dysfuction. May also have had PNA, <br/>especially since WBC was elevated. Pt did not have fevers, <br/>however.  There was also a h/o pulmonary fibrosis, breast and <br/>lung cancer. She received captopril 6.5 mg to diurese pt and <br/>help her CHF. She was also given ipratropium inhalers.  One day <br/>after admission the family indicated to the social worker that <br/>the patient had been dc'd to home hospice care two weeks prior <br/>but the patient refused hospice and did not fill her narctoics <br/>for pain.  A palliative care consult was obtained.  Patient was <br/>still intubated but her respiratory status was not improving to <br/>a great degree.  Patient and patient's family made the decision <br/>to extubate the patient knowing that she would most likely die <br/>when extubated.  This was per the family consistent with the <br/>patient's previous expressed wishes. Of note patient's hct <br/>dropped from 43 at admission to 23 on 7-7.  Family was informed <br/>of the necessity of a transfusion but refused blood <br/>transfusions. The patient was made comfort measures only and <br/>extubated with family present consistent with the wishes of all. <br/> The patient was extubated on 1970-7-7.  She was pronounced dead <br/>at 7:0 pm on 1970-7-7 with the family at her side.  Family <br/>declined to have an autospys performed.<br/><br/>Acute blood loss anemia: Pt's hct has dropped significantly in <br/>the past day. This can be explained by two hematomas and oozing <br/>from the cath. It is possible that she is bleeding from <br/>somewhere else.  <br/>-will re-check hct in pm to see if pt stable  <br/>-check stool guiacs  <br/>.  <br/> <br/>Medications on Admission:<br/>MEDS: unknown, may include diovan <br/> <br/>Discharge Medications:<br/>patient expired<br/> <br/>Discharge Disposition:<br/>Expired<br/> <br/>Discharge Diagnosis:<br/>patient expired<br/> <br/>Discharge Condition:<br/>patient expired<br/> <br/>Discharge Instructions:<br/>patient expired<br/> <br/>Followup Instructions:<br/>patient expired<br/> <br/>                             Ixel Innis MD MD Number 353<br/> <br/>Completed by: Mylinh Karas Derrike Krawietz MD MD Number 10155 1970-10-14 @ 1827<br/>Signed electronically by: DR. Vitaliy Breindel Crivellone Phe<br/> on: Donaven 1970-10-16 6:52 PM<br/>(End of Report)</div>"
      ],
      "text/plain": [
       "<IPython.core.display.HTML object>"
      ]
     },
     "metadata": {},
     "output_type": "display_data"
    }
   ],
   "source": [
    "display_doc_text(pos_docs,900,300)"
   ]
  },
  {
   "cell_type": "markdown",
   "metadata": {},
   "source": [
    "### 2.3 See negative documents"
   ]
  },
  {
   "cell_type": "code",
   "execution_count": 8,
   "metadata": {
    "collapsed": false
   },
   "outputs": [
    {
     "name": "stdout",
     "output_type": "stream",
     "text": [
      "document name: 12285\n"
     ]
    },
    {
     "data": {
      "text/html": [
       "<div style=\" height: 300px; overflow-y: scroll;\">Admission Date:  1990-10-9     Discharge Date:  1990-10-17<br/><br/>Date of Birth:   1930-3-16     Sex:  M<br/><br/><br/>CHIEF COMPLAINT:  Cough/shortness of breath.<br/><br/>HISTORY OF PRESENT ILLNESS:  Mr. Known patient lastname 520 is a 60-year-old male<br/>with a past medical history significant for hypertension,<br/>times two, who developed a dry cough in late September while<br/>fly fishing in South Carolina.  The cough persisted and he was given<br/>erythromycin times ten days times two courses by his primary<br/>care physician, Vandeest. Sorteberg.  The erythromycin did not improve<br/>the patient's symptoms.<br/><br/>The patient describes the cough as dry, not worse at night,<br/>breath.  He denied fevers and  chills.  He states that he<br/>lost about six pounds over the past two months intentionally.<br/>Over the past one to two weeks, however, he has noted<br/>increasing dyspnea with stairs, as well as fatigue.  On the<br/>day prior to admission, he started a Z pack.<br/><br/>At his primary care physician's office today, he had a chest<br/>x-ray which disclosed an enlarged heart and interstitial<br/>infiltrates.  An esophagogastroduodenoscopy was done, as well<br/>as an echocardiogram which disclosed evidence of a<br/>pericardial effusion with tamponade.<br/><br/>There was diastolic collapse of the right atrium and right<br/>ventricle.  The patient was sent to the Emergency Department<br/>at Mission Community Hospital for evaluation of the<br/>pericardial effusion and drainage.  His pulses paradoxes was<br/>18.  The echocardiogram performed in the Emergency Department<br/>was consistent with cardiac tamponade.  The patient remained<br/>hemodynamically stable.<br/><br/>PAST MEDICAL HISTORY:<br/>1.  Melanoma.  Patient is status post removal of melanoma in<br/>1967 and in 1987.<br/>2.  Empyema of the left lung in 1971.<br/>3.  Labile hypertension.<br/>4.  Overweight.<br/>5.  Hypercholesterolemia.<br/>6.  Myxomatous mitral valve prolapse with mild mitral<br/>regurgitation.<br/>7.  Non-sustained ventricular tachycardia.<br/>8.  Chronic asymptomatic VEA.<br/>9.  Peripheral vision loss.<br/>10. History of smoking, quit in 1971.<br/><br/>MEDICATIONS:<br/>1.  Tenormin 150 mg q.d.<br/>2.  Lipitor 80 hs.<br/>3.  Enteric coated aspirin 325 mg po q.d.<br/>4.  Accupril 20 mg po q.d.<br/>5.  Multivitamin.<br/>6.  Folate 2 tablets b.i.d.<br/>7.  Vitamin E.<br/>8.  Vitamin B6.<br/>9.  Vitamin B12.<br/>10. Ativan prn Burnor.<br/><br/>ALLERGIES:  Penicillin.  Patient has a rash.<br/><br/>SOCIAL HISTORY:  Patient does office work.  He has been a<br/>widow for the past nine years.  He coaches a girls basketball<br/>team.  He has two children, ages 30 and 25.  He lives with<br/>his 30-year-old daughter.  He has a 2-year-old grandchild.<br/>He smoked cigars until 1984.  He has not had alcohol for the<br/>past nine years.<br/><br/>FAMILY HISTORY:  No heart disease and no diabetes mellitus.<br/><br/>REVIEW OF SYSTEMS:  No fevers, chills or night sweats.<br/>Patient reports a six pound intentional weight loss over the<br/>past two months.  No history of positive PPD or Tuberculosis<br/>exposure.  No upper respiratory infection symptoms with<br/>cough.  No nausea, vomiting, diarrhea or abdominal pain, but<br/>occasionally \"spits up\" after his cough.  Reports dyspnea<br/>with stairs and chest tightness occasionally on stairs.  No<br/>rash, no joint symptoms, no melanoma, no bright red blood per<br/>rectum, no dysuria, no edema, no paroxysmal nocturnal<br/>dyspnea, no orthopnea, no palpitations, no dizziness.<br/><br/>PHYSICAL EXAMINATION:  Temperature 97 degrees. Pulse 86.<br/>Blood pressure 124/63.  Respiratory rate 23.  Oxygen<br/>saturation 95% on three liters nasal cannula.  General:<br/>Elderly white male in no apparent distress.  Head, eyes,<br/>ears, nose and throat:  Anicteric, oropharynx clear, pupils<br/>equal, round and reactive to light, extraocular movements<br/>intact.  Neck:  Supple, no carotid bruit, no jugular venous<br/>distention.  Cardiovascular:  Regular rate and rhythm, soft<br/>S1, S2, no murmurs, rubs or gallops, pericardial drain in<br/>place.  Chest clear to auscultation anteriorly, left lateral<br/>chest scar.  Abdomen soft, nontender, nondistended with<br/>positive bowel sounds.  Extremities:  No cyanosis, clubbing<br/>or edema, 2+ dorsalis pedis pulses bilaterally.<br/>Neurological:  Cranial nerves II through XII are intact.<br/>Alert and oriented times three.  Exam otherwise nonfocal.<br/>Note:  This physical examination was done after the patient<br/>underwent his cardiac catheterization.<br/><br/>LABORATORY DATA ON ADMISSION:  White blood cell count 7.3,<br/>hematocrit of 41, platelet count of 294,000.  PT 13, PTT<br/>23.6, INR 1.1.  Echocardiogram:  Normal sinus rhythm, 71<br/>beats per minute, electrical alternans, low voltage<br/>precordial leads, prolonged PR.  After the procedure,<br/>esophagogastroduodenoscopy showed a sinus rhythm at 82 beats<br/>per minute, normal axis, prolonged PR, T wave inversions I<br/>and aVL, biphasic T in V2, Qs in V1 to V2, increased voltage.<br/><br/>HOSPITAL COURSE:  The patient was admitted initially to the<br/>Coronary Care Unit.  He underwent a cardiac catheterization<br/>on 10-9 for pericardiocentesis.  Hemodynamics showed<br/>elevated and equal RA and pericardial pressures, 11-12 mm<br/>mercury, slightly lower than pulmonary capillary wedge<br/>pressure.  There was preserved cardiac index.  There is<br/>preserved blood pressure with 15-20 mm mercury pulses<br/>paradoxes.  During the pericardiocentesis, 1116 ml of<br/>serosanguinous fluid was easily removed. Fluid was sent to<br/>the laboratory for analysis.<br/><br/>Following the pericardiocentesis, the patient was admitted to<br/>the Coronary Care Unit for further management.  On 10-10, the pericardial drain was removed.  Repeat echocardiogram<br/>dMD Number 719 disclose recurrence of the pericardial effusion.<br/>Patient underwent CT of the chest which disclosed diffuse<br/>interstitial infiltrates consistent with lymphangitic spread.<br/>There was also a positive mediastinal lymphadenopathy and<br/>lytic sclerotic bone lesions.<br/><br/>On 10-12, the patient was transferred to the Citrus Heights<br/>Service.  On the night of the 16th, he was tachycardic to the<br/>160s.  Echocardiogram disclosed atrial flutter.  His blood<br/>pressure was stable.  He was started on sotalol 120 mg b.i.d.<br/>The following day this was decreased to 80 mg b.i.d.  While<br/>on sotalol, his QTC interval was monitored and his potassium<br/>was kept between 4.5 and 5.2.  Repeat echocardiogram dMD Number 719<br/>disclose re-accumulation of the pericardial effusion.<br/><br/>While on the Glendale Service.  A Pulmonary Consult was<br/>obtained for further evaluation of the diffuse infiltrates<br/>seen on the CT.  Pulmonary Service recommended awaiting the<br/>final pathology from the pericardial fluid.  They were<br/>willing to perform transbronchial biopsy if necessary.<br/><br/>Patient was also seen by his Oncologist, Dr. Maslinski.  Patient<br/>underwent an MRI of his brain on 10-16.  MRI disclosed<br/>foci on the surface of the brain that appeared consistent<br/>with leptomeningeal spread of cancer.  An abdominal CT was<br/>done on 10-16.  CT of the abdomen disclosed one<br/>lymphangitic spread of metastatic disease throughout the<br/>lungs was stable since the study one week before.  There was<br/>an increase in the pericardial fluid since the study one week<br/>prior.  There was interval development of multiple sclerotic<br/>and lytic lesions within the osseous structures since 1988.<br/>There were stable hepatic lesions that likely represent<br/>simple cysts. There was a stable splenic lesion that likely<br/>represents a hemangioma.  Although, colon appeared grossly<br/>normal, radiologist's caution that the study was not<br/>diagnostic for colon cancer.<br/><br/>Finally, pathology results from pericardial fluid were<br/>obtained.  Pathologists performed multiple stains to identify<br/>the type of cancer, the types of cells in the pericardial<br/>fluid.  Pathologist's concluded that the malignant cells were<br/>from adenocarcinoma.  The tumor cells are positive for CK7<br/>and TTF1 markers.  TTF1 marker is specific for lung and<br/>thyroid.  The cells were focally positive for CK20.<br/>Pathologist's concluded that this immunoprofile is consistent<br/>with an adenocarcinoma arising in the lung.<br/><br/>The patient was discharged on 10-17.  He will have<br/>outpatient work-up of his malignancy.<br/><br/>DISCHARGE CONDITION:  Stable.<br/><br/>DISCHARGE STATUS:  Patient discharged home on Monday,<br/>1990-10-21.<br/><br/>DISCHARGE FOLLOW-UP:  He will follow-up with his Oncologist,<br/>Dr. Schons, at 2 p.m.  He will be seen by Dr. Parkey in the<br/>Brain Tumor Clinic at 4 p.m. on 1990-10-21.  He will<br/>follow-up with his Cardiologist, Dr. Patellis, on Wednesday,<br/>1990-10-23.  He was encouraged to call his primary<br/>care physician for KC Sciaraffa appointment.  Patient was<br/>given JH Bayers of Heart's monitor so that his QTC interval<br/>could be monitored for an additional week while on sotalol.<br/><br/>DISCHARGE DIAGNOSES:<br/>1.  Pericardial effusion with cardiac tamponade.<br/>2.  Non-sustained ventricular tachycardia.<br/>3.  Hypertension.<br/>4. Atrial Fibrillation.<br/><br/>DISCHARGE MEDICATIONS:<br/>1.  Sotalol 80 mg po b.i.d.<br/>2.  Lipitor 80 hs.<br/>3.  Enteric coated aspirin 325 mg po q.d.<br/>4.  Accupril 20 mg po q.d.<br/>5.  Multivitamin.<br/>6.  Folate 2 mg po b.i.d.<br/>7.  Vitamin E.<br/>8.  Vitamin B6.<br/>9.  Vitamin B12.<br/>10. Ativan prn Kalani.<br/>11. Potassium chloride 30 mEq po q.d.<br/>12. Celebrex 100 mg po b.i.d. as needed.<br/><br/><br/>                          Starsky Manire, M.D.  MD Number 2825<br/><br/>Dictated By:Ilijah<br/><br/>MEDQUIST36<br/><br/>D:  1990-10-18<br/>T:  1990-10-20  19:57<br/>JOB#:  Job Number 4264<br/><br/><br/><br/><br/><br/><br/><br/><br/>Signed electronically by: DR. Jakira RICE<br/> on: MON 1991-2-3 3:53 PM<br/>(End of Report)</div>"
      ],
      "text/plain": [
       "<IPython.core.display.HTML object>"
      ]
     },
     "metadata": {},
     "output_type": "display_data"
    }
   ],
   "source": [
    "neg_docs=dict((k, v) for k, v in annotated_doc_map.items() if  v.annotations[0].type =='NEGATED_DOC')\n",
    "\n",
    "# comment the line below to clear the output cell\n",
    "display_doc_text(neg_docs,300)"
   ]
  },
  {
   "cell_type": "markdown",
   "metadata": {},
   "source": [
    "## 3. How does the pyConText work\n",
    "\n",
    "In short, pyConText will take in a sentence string, then:\n",
    "\n",
    "1. Locate the target terms\n",
    "2. Look for context clues around the target terms, and assign modifier values to them\n",
    "\n",
    "Check the [pyConText Notebook here](2.FHI_Project_Intro_pyConText.ipynb)\n"
   ]
  },
  {
   "cell_type": "markdown",
   "metadata": {},
   "source": [
    "## 4. Going from pyConText output to a document classification\n",
    "\n",
    "What rules might you create to classify a report with pyConText output as FAM_BREAST_CA_DOC or NEG_BREAST_CA_DOC?\n"
   ]
  },
  {
   "cell_type": "markdown",
   "metadata": {},
   "source": [
    "###  Here are the steps:\n",
    "\n",
    "1. Check these modifier values and rename the annotation type as necessary (See: [feature inference rule file](/edit/KB/fam_bc_featurer_inferences.csv))\n",
    "2. Draw document level conclusion based on the evidence annotation types. If no evidence annotation exists, make a default conclusion (the last line of the [document inference rule file](/edit/KB/fam_bc_doc_inferences.csv))\n",
    "\n",
    "For more detailed implementation, please check the <span style=\"color:blue\">FeatureInferencer</span> class and the <span style=\"color:blue\">DocumentInferencer</span> class in [this DocumentClassifier.py](/edit/DocumentClassifier.py)\n",
    "\n"
   ]
  },
  {
   "cell_type": "markdown",
   "metadata": {},
   "source": [
    "## 5. Wrap everything up in DocumentClassifier\n",
    "\n",
    "We have created a DocumentClassifier, which can take a document text:\n",
    "1. Segment document text into sentences\n",
    "2. Apply pyConText\n",
    "3. Make document classification based on pyConText output  \n",
    "\n",
    "For more detailed implementation, please check [this DocumentClassifier.py](/edit/DocumentClassifier.py) out. It does all the dirty work for you, and offers a few very clean and simple interfaces for you to use."
   ]
  },
  {
   "cell_type": "markdown",
   "metadata": {},
   "source": [
    "## 5. How we know if the NLP performs good or bad?\n",
    "\n",
    "We use quantitative measurements to evaluate the performance of an NLP solution. Three measurements are commonly used:\n",
    "precision, recall and F measure. Check this 16min video before the class:\n",
    "<a href=\"https://www.youtube.com/embed/2akd6uwtowc?ecver=2\"\n",
    "target=\"_blank\"><img src=\"http://img.youtube.com/vi/2akd6uwtowc/0.jpg\" \n",
    "alt=\"IMAGE ALT TEXT HERE\" width=\"250\" height=\"140\" border=\"1\" /></a>"
   ]
  },
  {
   "cell_type": "markdown",
   "metadata": {},
   "source": [
    "## References:\n",
    "1. MIMIC-III, a freely accessible critical care database. Johnson AEW, Pollard TJ, Shen L, Lehman L, Feng M, Ghassemi M, Moody B, Szolovits P, Celi LA, and Mark RG. Scientific Data (2016). DOI: 10.1038/sdata.2016.35. Available at: http://www.nature.com/articles/sdata201635"
   ]
  },
  {
   "cell_type": "markdown",
   "metadata": {},
   "source": [
    "<br/><hr/>This material presented as part of the Foundermental Health Informatics Course, 2017 Fall, BMI, University of Utah. It's revised from the <a href=\"https://github.com/UUDeCART/decart_rule_based_nlp\">material</a> of the DeCART  Summer Program (Data, exploration, Computation, and Analytics Real-world Training for the Health Sciences) at the University of Utah in 2017. <br/><br/>Original presenters : Dr. Wendy Chapman, Jianlin Shi and Kelly Peterson.<br/>\n",
    "Revised by: Jianlin Shi and Dr. Wendy Chapman<br/>\n",
    "<img align=\"left\" src=\"https://wiki.creativecommons.org/images/1/10/Cc.org_cc_by_license.jpg\" alt=\"Except where otherwise noted, this website is licensed under a Creative Commons Attribution 3.0 Unported License.\">"
   ]
  }
 ],
 "metadata": {
  "anaconda-cloud": {},
  "kernelspec": {
   "display_name": "Python [default]",
   "language": "python",
   "name": "python3"
  },
  "language_info": {
   "codemirror_mode": {
    "name": "ipython",
    "version": 3
   },
   "file_extension": ".py",
   "mimetype": "text/x-python",
   "name": "python",
   "nbconvert_exporter": "python",
   "pygments_lexer": "ipython3",
   "version": "3.5.2"
  }
 },
 "nbformat": 4,
 "nbformat_minor": 2
}
