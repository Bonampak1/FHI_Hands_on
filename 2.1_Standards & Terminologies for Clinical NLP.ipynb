{
 "cells": [
  {
   "cell_type": "markdown",
   "metadata": {},
   "source": [
    "# Standards & Terminologies for Clinical NLP\n",
    "\n",
    "Currently, there isn't a widely adopted NLP-specific standards or terminologies, because of the variety of NLP nature. However, several standards and terminologies in clinical domain can be used for NLP purpose. This notebook is not supposed to give a comprehensive list. Instead, it means to provide a start."
   ]
  },
  {
   "cell_type": "markdown",
   "metadata": {},
   "source": [
    "## 1. Systematized Nomenclature of Medicine -- Clinical Terms (SNOMED CT)\n",
    "\n",
    "\"SNOMED CT is one of a suite of designated standards for use in U.S. Federal Government systems for the electronic exchange of clinical health information\". \n",
    "\n",
    "* comprehensive (covers: clinical findings, symptoms, diagnoses, procedures, body structures, organisms and other etiologies, substances, pharmaceuticals, devices and specimens)\n",
    "* multilingual\n",
    "* world-wide adopted \n",
    "\n",
    "For example: \n",
    "\n",
    "* 80146002|appendectomy|\n",
    "\n",
    "[Introduction about SNOMEDCT](https://elearning.ihtsdotools.org/mod/scorm/player.php?a=42&currentorg=&scoid=1373&sesskey=APe68b0bwX&display=popup&mode=normal)"
   ]
  },
  {
   "cell_type": "markdown",
   "metadata": {},
   "source": [
    "## 2. Logical Observation Identifiers Names and Codes (LOINC)\n",
    "\n",
    "LOINC is a standards to model health measurements, observations, and documents. LOINC codes represent the “question” for a test or measurement. For instance: \n",
    "\n",
    "* 2951-2  \tSodium [Moles/​volume] in Serum or Plasma"
   ]
  },
  {
   "cell_type": "markdown",
   "metadata": {},
   "source": [
    "## 3. RxNorm\n",
    "\n",
    "\"RxNorm is two things: a normalized naming system for generic and branded drugs; and a tool for supporting semantic interoperation between drug terminologies and pharmacy knowledge base systems.\" It reflects and preserves the meanings, drug names and attributes. For instance: \n",
    "\n",
    "![RxNorm Example](https://www.nlm.nih.gov/research/umls/rxnorm/RxNorm_Drug_Relationships.png)\n",
    "\n"
   ]
  },
  {
   "cell_type": "markdown",
   "metadata": {},
   "source": [
    "## 4. Unified Medical Language System (UMLS)\n",
    "\n",
    "In short, UMLS is a mixture of a wide range of biomedical vocabularies and standards. It maps the concepts across these standards and vocabularies through the Concept Unique Identifiers (CUI) to enable interoperability. \n",
    "\n",
    "[A brief introduction about UMLS](https://www.nlm.nih.gov/research/umls/presentations/2004-medinfo_tut.pdf)"
   ]
  },
  {
   "cell_type": "markdown",
   "metadata": {},
   "source": [
    "## 5. Ontology\n",
    "\n",
    "\"An ontology is a formal explicit description of concepts in a domain of discourse (classes (sometimes called concepts)), properties of each concept describing various features and attributes of the concept (slots (sometimes called roles or properties)), and restrictions on slots (facets (sometimes called role restrictions)). An ontology together with a set of individual instances of classes constitutes a knowledge base. \"(https://protege.stanford.edu/publications/ontology_development/ontology101-noy-mcguinness.html)\n",
    "\n",
    "\n",
    "\n",
    "![clinical IE ontology diagram](img/ontology_diagram.png)\n",
    "\n",
    "Figure 1: Comprehensive model of the relationship between two domain annotation variables, “body temperature greater than 100.4” and “fever”. (By Melissa Castine)"
   ]
  },
  {
   "cell_type": "markdown",
   "metadata": {},
   "source": [
    "## 6. UMLS API exercise"
   ]
  },
  {
   "cell_type": "markdown",
   "metadata": {},
   "source": [
    "UMLSFinder is a simplified wrapper of UMLS REST API using python. It can be used to search synonyms. For more information about the UMLS REST API, please refer to https://documentation.uts.nlm.nih.gov/rest/home.html\n",
    "\n",
    "You will need UMLS license to get access ([How to get UMLS license](https://www.nlm.nih.gov/databases/umls.html)). \n",
    "\n",
    "And you will need to provide your UMLS API key. ([How to get your API Key_at 01:12](https://www.nlm.nih.gov/research/umls/user_education/quick_tours/UTS-API/UTS_REST_API_Authentication.html))"
   ]
  },
  {
   "cell_type": "code",
   "execution_count": 1,
   "metadata": {},
   "outputs": [],
   "source": [
    "from umls.UMLSFinder import UMLSFinder\n",
    "from umls.Authentication import Authentication\n",
    "umls=UMLSFinder()\n"
   ]
  },
  {
   "cell_type": "code",
   "execution_count": 2,
   "metadata": {},
   "outputs": [
    {
     "data": {
      "text/plain": [
       "['Pneumonia',\n",
       " 'Acute bronchiolitis',\n",
       " 'Extrinsic allergic alveolitis',\n",
       " 'Pneumonia Bacterial',\n",
       " 'Bronchopneumonia',\n",
       " 'Legionnaires Disease',\n",
       " 'Aspiration Pneumonia',\n",
       " 'Pneumonia Lipid',\n",
       " 'Lobar Pneumonia',\n",
       " 'Mycoplasma pneumonia',\n",
       " 'Pneumonia Rickettsial',\n",
       " 'Staphylococcal Pneumonia',\n",
       " 'Pneumonia Viral',\n",
       " 'Rheumatic pneumonia',\n",
       " 'Salmonella pneumonia',\n",
       " 'Ornithosis with pneumonia',\n",
       " 'Candidiasis of lung',\n",
       " 'Pneumonia due to Pseudomonas',\n",
       " 'Streptococcal pneumonia',\n",
       " 'Pneumonia in pertussis',\n",
       " 'Manganese pneumonitis',\n",
       " 'Mycobacterial pneumonia',\n",
       " 'Lingular pneumonia',\n",
       " 'Pneumococcal pneumonia associated with AIDS',\n",
       " 'Right middle zone pneumonia',\n",
       " 'Pneumococcal lobar pneumonia',\n",
       " 'Idiopathic acute eosinophilic pneumonia',\n",
       " 'Bacterial pneumonia cooccurrent with human immunodeficiency virus infection']"
      ]
     },
     "execution_count": 2,
     "metadata": {},
     "output_type": "execute_result"
    }
   ],
   "source": [
    "umls.search('pneumonia')"
   ]
  },
  {
   "cell_type": "code",
   "execution_count": null,
   "metadata": {},
   "outputs": [],
   "source": []
  }
 ],
 "metadata": {
  "kernelspec": {
   "display_name": "Python [default]",
   "language": "python",
   "name": "python3"
  },
  "language_info": {
   "codemirror_mode": {
    "name": "ipython",
    "version": 3
   },
   "file_extension": ".py",
   "mimetype": "text/x-python",
   "name": "python",
   "nbconvert_exporter": "python",
   "pygments_lexer": "ipython3",
   "version": "3.6.3"
  }
 },
 "nbformat": 4,
 "nbformat_minor": 2
}
