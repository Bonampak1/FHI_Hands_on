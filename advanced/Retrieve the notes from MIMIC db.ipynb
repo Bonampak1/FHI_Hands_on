{
 "cells": [
  {
   "cell_type": "markdown",
   "metadata": {},
   "source": [
    "# Retrieve the notes from our local MIMIC database\n",
    "\n",
    "This notebook provides a Jupyter interface to the MIMIC2 demo data set.\n"
   ]
  },
  {
   "cell_type": "code",
   "execution_count": null,
   "metadata": {
    "collapsed": false
   },
   "outputs": [],
   "source": [
    "import pymysql\n",
    "import pandas as pd\n",
    "import os\n",
    "import pickle\n",
    "import zipfile\n",
    "from IPython.display import display"
   ]
  },
  {
   "cell_type": "markdown",
   "metadata": {},
   "source": [
    "## 1. Set up the database connection"
   ]
  },
  {
   "cell_type": "code",
   "execution_count": null,
   "metadata": {
    "collapsed": false
   },
   "outputs": [],
   "source": [
    "conn = pymysql.connect(host=\"mysql\",port=3306,user=\"jovyan\",passwd='jovyan',db='mimic2')\n",
    "cursor = conn.cursor()"
   ]
  },
  {
   "cell_type": "markdown",
   "metadata": {},
   "source": [
    "## 2.  See some statistics of note types\n",
    "\n",
    "We use the following sql query:\n",
    "```sql\n",
    "SELECT category,count(*) FROM noteevents GROUP BY category;\n",
    "```"
   ]
  },
  {
   "cell_type": "code",
   "execution_count": null,
   "metadata": {
    "collapsed": true
   },
   "outputs": [],
   "source": [
    "sql='SELECT category,count(*) FROM noteevents GROUP BY category'\n",
    "pos_adm_ids = pd.read_sql(sql, conn)\n",
    "# the read_sql function returns a pandas dataframe, which can be diplayed nicely in jupyter notebook:\n",
    "display(pos_adm_ids)"
   ]
  },
  {
   "cell_type": "markdown",
   "metadata": {},
   "source": [
    "## 3.  Retrieve the notes and zip them"
   ]
  },
  {
   "cell_type": "markdown",
   "metadata": {},
   "source": [
    "We will read all dischange summary notes into a dataframe, and write into a zip file, so that we can download it from our jupyter notebook. Here is the sql query that we are going to use:\n",
    "```sql  \n",
    "SELECT n.hadm_id, n.text FROM noteevents n WHERE category='DISCHARGE_SUMMARY';\n",
    "```\n",
    "Let's **read the notes into a dataframe**:"
   ]
  },
  {
   "cell_type": "code",
   "execution_count": null,
   "metadata": {
    "collapsed": false
   },
   "outputs": [],
   "source": [
    "# let's limit the total number here for your exercise, you don't want to wait too long and explode our server space.\n",
    "sql=\"SELECT n.hadm_id, n.text FROM noteevents n WHERE category='DISCHARGE_SUMMARY' LIMIT 10\"\n",
    "\n",
    "discharge_summaries=pd.read_sql(sql, conn)"
   ]
  },
  {
   "cell_type": "markdown",
   "metadata": {},
   "source": [
    "If you want, you can **have a look** at what you have retrieved:"
   ]
  },
  {
   "cell_type": "code",
   "execution_count": null,
   "metadata": {
    "collapsed": true
   },
   "outputs": [],
   "source": [
    "@ipywidgets.interact(i=ipywidgets.IntSlider(min=0, max=discharge_summaries['text'].count()-1))\n",
    "def _view_markup(i):\n",
    "\tprint('hadm_id=',discharge_summaries.ix[i,'hadm_id'])\n",
    "\tprint(discharge_summaries.ix[i,'text'])"
   ]
  },
  {
   "cell_type": "markdown",
   "metadata": {},
   "source": [
    "Now Let's create our **export zip function**:"
   ]
  },
  {
   "cell_type": "code",
   "execution_count": null,
   "metadata": {
    "collapsed": true
   },
   "outputs": [],
   "source": [
    "def exportZip(filename, dataframe):\n",
    "    zf = zipfile.ZipFile(filename, \n",
    "                     mode='w',\n",
    "                     compression=zipfile.ZIP_DEFLATED, \n",
    "                     )\n",
    "    ids=set();\n",
    "    try:\n",
    "        for i in range(0,len(dataframe)):\n",
    "            if(dataframe.ix[i,'hadm_id'] not in ids):\n",
    "                zf.writestr(str(dataframe.ix[i,'hadm_id'])+\".txt\", dataframe.ix[i,'text'])\n",
    "                ids.add(dataframe.ix[i,'hadm_id'])\n",
    "    finally:\n",
    "        zf.close()"
   ]
  },
  {
   "cell_type": "markdown",
   "metadata": {},
   "source": [
    "Then **zipping the notes** is pretty simple:"
   ]
  },
  {
   "cell_type": "code",
   "execution_count": null,
   "metadata": {
    "collapsed": false
   },
   "outputs": [],
   "source": [
    "exportZip('discharge_summaries.zip',discharge_summaries)"
   ]
  },
  {
   "cell_type": "markdown",
   "metadata": {},
   "source": [
    "Now go back to your notebook's file list, and download this discharge_summaries.zip'"
   ]
  },
  {
   "cell_type": "markdown",
   "metadata": {
    "collapsed": true
   },
   "source": [
    "<br/><hr/>This material presented as part of the Foundermental Health Informatics Course, 2017 Fall, BMI, University of Utah. It's revised from the <a href=\"https://github.com/UUDeCART/decart_rule_based_nlp\">material</a> of the DeCART  Summer Program (Data, exploration, Computation, and Analytics Real-world Training for the Health Sciences) at the University of Utah in 2017. <br/><br/>Original presenters : Dr. Wendy Chapman, Jianlin Shi and Kelly Peterson.<br/>\n",
    "Revised by: Jianlin Shi and Dr. Wendy Chapman<br/>\n",
    "<img align=\"left\" src=\"https://wiki.creativecommons.org/images/1/10/Cc.org_cc_by_license.jpg\" alt=\"Except where otherwise noted, this website is licensed under a Creative Commons Attribution 3.0 Unported License.\">"
   ]
  },
  {
   "cell_type": "code",
   "execution_count": null,
   "metadata": {
    "collapsed": true
   },
   "outputs": [],
   "source": []
  }
 ],
 "metadata": {
  "anaconda-cloud": {},
  "kernelspec": {
   "display_name": "Python [conda root]",
   "language": "python",
   "name": "conda-root-py"
  },
  "language_info": {
   "codemirror_mode": {
    "name": "ipython",
    "version": 3
   },
   "file_extension": ".py",
   "mimetype": "text/x-python",
   "name": "python",
   "nbconvert_exporter": "python",
   "pygments_lexer": "ipython3",
   "version": "3.5.2"
  }
 },
 "nbformat": 4,
 "nbformat_minor": 1
}
