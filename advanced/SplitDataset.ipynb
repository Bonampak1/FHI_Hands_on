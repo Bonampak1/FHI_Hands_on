{
 "cells": [
  {
   "cell_type": "markdown",
   "metadata": {},
   "source": [
    "# Split the Annotated Dataset into Training and Testing Sets\n",
    "\n",
    "This notebook demonstrates how to make the split. Because of the space issue, we didn't include all the discharge summaries, but we do include all the positive documents (either have family history of breast cancer or colon cancer), and then randomly sampled some other documents. Since this is just for demonstration purpose, let's assume that this is the full corpus.\n",
    "\n",
    "This is how the corpus zip file looks like (bc:breast cancer, cc: colon cancer):\n",
    "![inside corpus zip file](../img/snapshot4.png)\n",
    "\n",
    "Our goal is to split the dataset, and create 4 zip files like these:\n",
    "![splitted zip files](../img/snapshot5.png)"
   ]
  },
  {
   "cell_type": "code",
   "execution_count": 21,
   "metadata": {
    "collapsed": false,
    "scrolled": false
   },
   "outputs": [],
   "source": [
    "# import libraries\n",
    "import csv\n",
    "import random\n",
    "import os\n",
    "import shutil\n",
    "import re\n",
    "from zipfile import ZipFile,ZIP_DEFLATED\n",
    "# because visual.py is in parent directory, we need do this first before import it\n",
    "import sys\n",
    "sys.path.append(\"../\")\n",
    "\n",
    "from visual import scrollPrint"
   ]
  },
  {
   "cell_type": "markdown",
   "metadata": {},
   "source": [
    "#### here you can set up "
   ]
  },
  {
   "cell_type": "code",
   "execution_count": 22,
   "metadata": {
    "collapsed": false,
    "scrolled": false
   },
   "outputs": [],
   "source": [
    "# location of the annotated data\n",
    "corpus_zip='../data/FHI.zip'\n",
    "# what's the percentage of training set\n",
    "train_percentage=60"
   ]
  },
  {
   "cell_type": "markdown",
   "metadata": {},
   "source": [
    "First, let's see how ZipFile list files inside the 'corpus_zip'"
   ]
  },
  {
   "cell_type": "code",
   "execution_count": 23,
   "metadata": {
    "collapsed": false,
    "scrolled": true
   },
   "outputs": [
    {
     "data": {
      "text/html": [
       "<div style=\" height: 250px; overflow-y: scroll;\"><br/>bc/<br/>bc/10264.ann<br/>bc/10264.txt<br/>bc/10423.ann<br/>bc/10423.txt<br/>bc/10456.ann<br/>bc/10456.txt<br/>bc/10482.ann<br/>bc/10482.txt<br/>bc/10533.ann<br/>bc/10533.txt<br/>bc/10575.ann<br/>bc/10575.txt<br/>bc/10832.ann<br/>bc/10832.txt<br/>bc/10998.ann<br/>bc/10998.txt<br/>bc/11086.ann<br/>bc/11086.txt<br/>bc/11124.ann<br/>bc/11124.txt<br/>bc/11125.ann<br/>bc/11125.txt<br/>bc/11408.ann<br/>bc/11408.txt<br/>bc/11515.ann<br/>bc/11515.txt<br/>bc/11519.ann<br/>bc/11519.txt<br/>bc/11947.ann<br/>bc/11947.txt<br/>bc/11975.ann<br/>bc/11975.txt<br/>bc/12121.ann<br/>bc/12121.txt<br/>bc/12126.ann<br/>bc/12126.txt<br/>bc/12240.ann<br/>bc/12240.txt<br/>bc/12248.ann<br/>bc/12248.txt<br/>bc/12285.ann<br/>bc/12285.txt<br/>bc/12598.ann<br/>bc/12598.txt<br/>bc/12939.ann<br/>bc/12939.txt<br/>bc/13370.ann<br/>bc/13370.txt<br/>bc/13538.ann<br/>bc/13538.txt<br/>bc/13568.ann<br/>bc/13568.txt<br/>bc/13617.ann<br/>bc/13617.txt<br/>bc/13725.ann<br/>bc/13725.txt<br/>bc/14325.ann<br/>bc/14325.txt<br/>bc/14357.ann<br/>bc/14357.txt<br/>bc/14401.ann<br/>bc/14401.txt<br/>bc/14421.ann<br/>bc/14421.txt<br/>bc/14461.ann<br/>bc/14461.txt<br/>bc/14572.ann<br/>bc/14572.txt<br/>bc/14573.ann<br/>bc/14573.txt<br/>bc/14608.ann<br/>bc/14608.txt<br/>bc/15287.ann<br/>bc/15287.txt<br/>bc/15293.ann<br/>bc/15293.txt<br/>bc/15323.ann<br/>bc/15323.txt<br/>bc/15562.ann<br/>bc/15562.txt<br/>bc/15723.ann<br/>bc/15723.txt<br/>bc/15986.ann<br/>bc/15986.txt<br/>bc/16326.ann<br/>bc/16326.txt<br/>bc/16438.ann<br/>bc/16438.txt<br/>bc/16572.ann<br/>bc/16572.txt<br/>bc/16709.ann<br/>bc/16709.txt<br/>bc/16802.ann<br/>bc/16802.txt<br/>bc/16866.ann<br/>bc/16866.txt<br/>bc/17346.ann<br/>bc/17346.txt<br/>bc/17408.ann<br/>bc/17408.txt<br/>bc/17537.ann<br/>bc/17537.txt<br/>bc/17571.ann<br/>bc/17571.txt<br/>bc/17641.ann<br/>bc/17641.txt<br/>bc/17992.ann<br/>bc/17992.txt<br/>bc/18463.ann<br/>bc/18463.txt<br/>bc/18650.ann<br/>bc/18650.txt<br/>bc/18698.ann<br/>bc/18698.txt<br/>bc/19409.ann<br/>bc/19409.txt<br/>bc/1945.ann<br/>bc/1945.txt<br/>bc/19703.ann<br/>bc/19703.txt<br/>bc/19758.ann<br/>bc/19758.txt<br/>bc/19818.ann<br/>bc/19818.txt<br/>bc/19984.ann<br/>bc/19984.txt<br/>bc/20017.ann<br/>bc/20017.txt<br/>bc/20065.ann<br/>bc/20065.txt<br/>bc/20190.ann<br/>bc/20190.txt<br/>bc/20212.ann<br/>bc/20212.txt<br/>bc/2043.ann<br/>bc/2043.txt<br/>bc/20522.ann<br/>bc/20522.txt<br/>bc/20537.ann<br/>bc/20537.txt<br/>bc/20559.ann<br/>bc/20559.txt<br/>bc/2068.ann<br/>bc/2068.txt<br/>bc/20733.ann<br/>bc/20733.txt<br/>bc/20838.ann<br/>bc/20838.txt<br/>bc/20846.ann<br/>bc/20846.txt<br/>bc/20853.ann<br/>bc/20853.txt<br/>bc/20854.ann<br/>bc/20854.txt<br/>bc/20864.ann<br/>bc/20864.txt<br/>bc/20886.ann<br/>bc/20886.txt<br/>bc/21051.ann<br/>bc/21051.txt<br/>bc/21191.ann<br/>bc/21191.txt<br/>bc/2131.ann<br/>bc/2131.txt<br/>bc/21366.ann<br/>bc/21366.txt<br/>bc/21570.ann<br/>bc/21570.txt<br/>bc/21572.ann<br/>bc/21572.txt<br/>bc/21756.ann<br/>bc/21756.txt<br/>bc/22421.ann<br/>bc/22421.txt<br/>bc/22752.ann<br/>bc/22752.txt<br/>bc/22997.ann<br/>bc/22997.txt<br/>bc/23106.ann<br/>bc/23106.txt<br/>bc/23109.ann<br/>bc/23109.txt<br/>bc/23157.ann<br/>bc/23157.txt<br/>bc/24008.ann<br/>bc/24008.txt<br/>bc/24257.ann<br/>bc/24257.txt<br/>bc/24369.ann<br/>bc/24369.txt<br/>bc/24389.ann<br/>bc/24389.txt<br/>bc/24411.ann<br/>bc/24411.txt<br/>bc/2475.ann<br/>bc/2475.txt<br/>bc/24780.ann<br/>bc/24780.txt<br/>bc/24880.ann<br/>bc/24880.txt<br/>bc/24933.ann<br/>bc/24933.txt<br/>bc/25090.ann<br/>bc/25090.txt<br/>bc/25142.ann<br/>bc/25142.txt<br/>bc/25325.ann<br/>bc/25325.txt<br/>bc/25593.ann<br/>bc/25593.txt<br/>bc/25725.ann<br/>bc/25725.txt<br/>bc/25749.ann<br/>bc/25749.txt<br/>bc/25854.ann<br/>bc/25854.txt<br/>bc/26213.ann<br/>bc/26213.txt<br/>bc/26295.ann<br/>bc/26295.txt<br/>bc/26337.ann<br/>bc/26337.txt<br/>bc/26384.ann<br/>bc/26384.txt<br/>bc/26405.ann<br/>bc/26405.txt<br/>bc/26440.ann<br/>bc/26440.txt<br/>bc/26497.ann<br/>bc/26497.txt<br/>bc/26546.ann<br/>bc/26546.txt<br/>bc/26627.ann<br/>bc/26627.txt<br/>bc/26683.ann<br/>bc/26683.txt<br/>bc/26710.ann<br/>bc/26710.txt<br/>bc/2674.ann<br/>bc/2674.txt<br/>bc/26743.ann<br/>bc/26743.txt<br/>bc/27024.ann<br/>bc/27024.txt<br/>bc/27233.ann<br/>bc/27233.txt<br/>bc/27240.ann<br/>bc/27240.txt<br/>bc/2739.ann<br/>bc/2739.txt<br/>bc/27562.ann<br/>bc/27562.txt<br/>bc/27673.ann<br/>bc/27673.txt<br/>bc/27953.ann<br/>bc/27953.txt<br/>bc/27954.ann<br/>bc/27954.txt<br/>bc/27956.ann<br/>bc/27956.txt<br/>bc/27959.ann<br/>bc/27959.txt<br/>bc/2824.ann<br/>bc/2824.txt<br/>bc/28454.ann<br/>bc/28454.txt<br/>bc/28981.ann<br/>bc/28981.txt<br/>bc/29043.ann<br/>bc/29043.txt<br/>bc/29074.ann<br/>bc/29074.txt<br/>bc/29098.ann<br/>bc/29098.txt<br/>bc/29385.ann<br/>bc/29385.txt<br/>bc/29388.ann<br/>bc/29388.txt<br/>bc/29530.ann<br/>bc/29530.txt<br/>bc/29644.ann<br/>bc/29644.txt<br/>bc/3020.ann<br/>bc/3020.txt<br/>bc/30807.ann<br/>bc/30807.txt<br/>bc/31078.ann<br/>bc/31078.txt<br/>bc/3119.ann<br/>bc/3119.txt<br/>bc/32158.ann<br/>bc/32158.txt<br/>bc/32314.ann<br/>bc/32314.txt<br/>bc/32315.ann<br/>bc/32315.txt<br/>bc/32584.ann<br/>bc/32584.txt<br/>bc/32614.ann<br/>bc/32614.txt<br/>bc/32752.ann<br/>bc/32752.txt<br/>bc/33094.ann<br/>bc/33094.txt<br/>bc/3322.ann<br/>bc/3322.txt<br/>bc/33331.ann<br/>bc/33331.txt<br/>bc/33349.ann<br/>bc/33349.txt<br/>bc/33849.ann<br/>bc/33849.txt<br/>bc/3389.ann<br/>bc/3389.txt<br/>bc/34091.ann<br/>bc/34091.txt<br/>bc/34229.ann<br/>bc/34229.txt<br/>bc/34397.ann<br/>bc/34397.txt<br/>bc/3468.ann<br/>bc/3468.txt<br/>bc/35010.ann<br/>bc/35010.txt<br/>bc/35112.ann<br/>bc/35112.txt<br/>bc/35525.ann<br/>bc/35525.txt<br/>bc/3553.ann<br/>bc/3553.txt<br/>bc/36077.ann<br/>bc/36077.txt<br/>bc/3838.ann<br/>bc/3838.txt<br/>bc/3880.ann<br/>bc/3880.txt<br/>bc/4114.ann<br/>bc/4114.txt<br/>bc/474.ann<br/>bc/474.txt<br/>bc/481.ann<br/>bc/481.txt<br/>bc/5367.ann<br/>bc/5367.txt<br/>bc/5723.ann<br/>bc/5723.txt<br/>bc/5775.ann<br/>bc/5775.txt<br/>bc/5834.ann<br/>bc/5834.txt<br/>bc/5932.ann<br/>bc/5932.txt<br/>bc/6192.ann<br/>bc/6192.txt<br/>bc/6443.ann<br/>bc/6443.txt<br/>bc/6475.ann<br/>bc/6475.txt<br/>bc/6670.ann<br/>bc/6670.txt<br/>bc/6895.ann<br/>bc/6895.txt<br/>bc/7149.ann<br/>bc/7149.txt<br/>bc/7293.ann<br/>bc/7293.txt<br/>bc/7641.ann<br/>bc/7641.txt<br/>bc/7866.ann<br/>bc/7866.txt<br/>bc/803.ann<br/>bc/803.txt<br/>bc/8037.ann<br/>bc/8037.txt<br/>bc/8081.ann<br/>bc/8081.txt<br/>bc/8142.ann<br/>bc/8142.txt<br/>bc/8341.ann<br/>bc/8341.txt<br/>bc/836.ann<br/>bc/836.txt<br/>bc/8570.ann<br/>bc/8570.txt<br/>bc/8583.ann<br/>bc/8583.txt<br/>bc/8889.ann<br/>bc/8889.txt<br/>bc/9016.ann<br/>bc/9016.txt<br/>bc/934.ann<br/>bc/934.txt<br/>bc/9400.ann<br/>bc/9400.txt<br/>bc/9425.ann<br/>bc/9425.txt<br/>bc/945.ann<br/>bc/945.txt<br/>bc/9847.ann<br/>bc/9847.txt<br/>bc/annotation.conf<br/>cc/<br/>cc/10264.ann<br/>cc/10264.txt<br/>cc/10423.ann<br/>cc/10423.txt<br/>cc/10456.ann<br/>cc/10456.txt<br/>cc/10482.ann<br/>cc/10482.txt<br/>cc/10533.ann<br/>cc/10533.txt<br/>cc/10575.ann<br/>cc/10575.txt<br/>cc/10832.ann<br/>cc/10832.txt<br/>cc/10998.ann<br/>cc/10998.txt<br/>cc/11086.ann<br/>cc/11086.txt<br/>cc/11124.ann<br/>cc/11124.txt<br/>cc/11125.ann<br/>cc/11125.txt<br/>cc/11408.ann<br/>cc/11408.txt<br/>cc/11515.ann<br/>cc/11515.txt<br/>cc/11519.ann<br/>cc/11519.txt<br/>cc/11947.ann<br/>cc/11947.txt<br/>cc/11975.ann<br/>cc/11975.txt<br/>cc/12121.ann<br/>cc/12121.txt<br/>cc/12126.ann<br/>cc/12126.txt<br/>cc/12240.ann<br/>cc/12240.txt<br/>cc/12248.ann<br/>cc/12248.txt<br/>cc/12285.ann<br/>cc/12285.txt<br/>cc/12598.ann<br/>cc/12598.txt<br/>cc/12939.ann<br/>cc/12939.txt<br/>cc/13370.ann<br/>cc/13370.txt<br/>cc/13538.ann<br/>cc/13538.txt<br/>cc/13568.ann<br/>cc/13568.txt<br/>cc/13617.ann<br/>cc/13617.txt<br/>cc/13725.ann<br/>cc/13725.txt<br/>cc/14325.ann<br/>cc/14325.txt<br/>cc/14357.ann<br/>cc/14357.txt<br/>cc/14401.ann<br/>cc/14401.txt<br/>cc/14421.ann<br/>cc/14421.txt<br/>cc/14461.ann<br/>cc/14461.txt<br/>cc/14572.ann<br/>cc/14572.txt<br/>cc/14573.ann<br/>cc/14573.txt<br/>cc/14608.ann<br/>cc/14608.txt<br/>cc/15287.ann<br/>cc/15287.txt<br/>cc/15293.ann<br/>cc/15293.txt<br/>cc/15323.ann<br/>cc/15323.txt<br/>cc/15562.ann<br/>cc/15562.txt<br/>cc/15723.ann<br/>cc/15723.txt<br/>cc/15986.ann<br/>cc/15986.txt<br/>cc/16326.ann<br/>cc/16326.txt<br/>cc/16438.ann<br/>cc/16438.txt<br/>cc/16572.ann<br/>cc/16572.txt<br/>cc/16709.ann<br/>cc/16709.txt<br/>cc/16802.ann<br/>cc/16802.txt<br/>cc/16866.ann<br/>cc/16866.txt<br/>cc/17346.ann<br/>cc/17346.txt<br/>cc/17408.ann<br/>cc/17408.txt<br/>cc/17537.ann<br/>cc/17537.txt<br/>cc/17571.ann<br/>cc/17571.txt<br/>cc/17641.ann<br/>cc/17641.txt<br/>cc/17992.ann<br/>cc/17992.txt<br/>cc/18463.ann<br/>cc/18463.txt<br/>cc/18650.ann<br/>cc/18650.txt<br/>cc/18698.ann<br/>cc/18698.txt<br/>cc/19409.ann<br/>cc/19409.txt<br/>cc/1945.ann<br/>cc/1945.txt<br/>cc/19703.ann<br/>cc/19703.txt<br/>cc/19758.ann<br/>cc/19758.txt<br/>cc/19818.ann<br/>cc/19818.txt<br/>cc/19984.ann<br/>cc/19984.txt<br/>cc/20017.ann<br/>cc/20017.txt<br/>cc/20065.ann<br/>cc/20065.txt<br/>cc/20190.ann<br/>cc/20190.txt<br/>cc/20212.ann<br/>cc/20212.txt<br/>cc/2043.ann<br/>cc/2043.txt<br/>cc/20522.ann<br/>cc/20522.txt<br/>cc/20537.ann<br/>cc/20537.txt<br/>cc/20559.ann<br/>cc/20559.txt<br/>cc/2068.ann<br/>cc/2068.txt<br/>cc/20733.ann<br/>cc/20733.txt<br/>cc/20838.ann<br/>cc/20838.txt<br/>cc/20846.ann<br/>cc/20846.txt<br/>cc/20853.ann<br/>cc/20853.txt<br/>cc/20854.ann<br/>cc/20854.txt<br/>cc/20864.ann<br/>cc/20864.txt<br/>cc/20886.ann<br/>cc/20886.txt<br/>cc/21051.ann<br/>cc/21051.txt<br/>cc/21191.ann<br/>cc/21191.txt<br/>cc/2131.ann<br/>cc/2131.txt<br/>cc/21366.ann<br/>cc/21366.txt<br/>cc/21570.ann<br/>cc/21570.txt<br/>cc/21572.ann<br/>cc/21572.txt<br/>cc/21756.ann<br/>cc/21756.txt<br/>cc/22421.ann<br/>cc/22421.txt<br/>cc/22752.ann<br/>cc/22752.txt<br/>cc/22997.ann<br/>cc/22997.txt<br/>cc/23106.ann<br/>cc/23106.txt<br/>cc/23109.ann<br/>cc/23109.txt<br/>cc/23157.ann<br/>cc/23157.txt<br/>cc/24008.ann<br/>cc/24008.txt<br/>cc/24257.ann<br/>cc/24257.txt<br/>cc/24369.ann<br/>cc/24369.txt<br/>cc/24389.ann<br/>cc/24389.txt<br/>cc/24411.ann<br/>cc/24411.txt<br/>cc/2475.ann<br/>cc/2475.txt<br/>cc/24780.ann<br/>cc/24780.txt<br/>cc/24880.ann<br/>cc/24880.txt<br/>cc/24933.ann<br/>cc/24933.txt<br/>cc/25090.ann<br/>cc/25090.txt<br/>cc/25142.ann<br/>cc/25142.txt<br/>cc/25325.ann<br/>cc/25325.txt<br/>cc/25593.ann<br/>cc/25593.txt<br/>cc/25725.ann<br/>cc/25725.txt<br/>cc/25749.ann<br/>cc/25749.txt<br/>cc/25854.ann<br/>cc/25854.txt<br/>cc/26213.ann<br/>cc/26213.txt<br/>cc/26295.ann<br/>cc/26295.txt<br/>cc/26337.ann<br/>cc/26337.txt<br/>cc/26384.ann<br/>cc/26384.txt<br/>cc/26405.ann<br/>cc/26405.txt<br/>cc/26440.ann<br/>cc/26440.txt<br/>cc/26497.ann<br/>cc/26497.txt<br/>cc/26546.ann<br/>cc/26546.txt<br/>cc/26627.ann<br/>cc/26627.txt<br/>cc/26683.ann<br/>cc/26683.txt<br/>cc/26710.ann<br/>cc/26710.txt<br/>cc/2674.ann<br/>cc/2674.txt<br/>cc/26743.ann<br/>cc/26743.txt<br/>cc/27024.ann<br/>cc/27024.txt<br/>cc/27233.ann<br/>cc/27233.txt<br/>cc/27240.ann<br/>cc/27240.txt<br/>cc/2739.ann<br/>cc/2739.txt<br/>cc/27562.ann<br/>cc/27562.txt<br/>cc/27673.ann<br/>cc/27673.txt<br/>cc/27953.ann<br/>cc/27953.txt<br/>cc/27954.ann<br/>cc/27954.txt<br/>cc/27956.ann<br/>cc/27956.txt<br/>cc/27959.ann<br/>cc/27959.txt<br/>cc/2824.ann<br/>cc/2824.txt<br/>cc/28454.ann<br/>cc/28454.txt<br/>cc/28981.ann<br/>cc/28981.txt<br/>cc/29043.ann<br/>cc/29043.txt<br/>cc/29074.ann<br/>cc/29074.txt<br/>cc/29098.ann<br/>cc/29098.txt<br/>cc/29385.ann<br/>cc/29385.txt<br/>cc/29388.ann<br/>cc/29388.txt<br/>cc/29530.ann<br/>cc/29530.txt<br/>cc/29644.ann<br/>cc/29644.txt<br/>cc/3020.ann<br/>cc/3020.txt<br/>cc/30807.ann<br/>cc/30807.txt<br/>cc/31078.ann<br/>cc/31078.txt<br/>cc/3119.ann<br/>cc/3119.txt<br/>cc/32158.ann<br/>cc/32158.txt<br/>cc/32314.ann<br/>cc/32314.txt<br/>cc/32315.ann<br/>cc/32315.txt<br/>cc/32584.ann<br/>cc/32584.txt<br/>cc/32614.ann<br/>cc/32614.txt<br/>cc/32752.ann<br/>cc/32752.txt<br/>cc/33094.ann<br/>cc/33094.txt<br/>cc/3322.ann<br/>cc/3322.txt<br/>cc/33331.ann<br/>cc/33331.txt<br/>cc/33349.ann<br/>cc/33349.txt<br/>cc/33849.ann<br/>cc/33849.txt<br/>cc/3389.ann<br/>cc/3389.txt<br/>cc/34091.ann<br/>cc/34091.txt<br/>cc/34229.ann<br/>cc/34229.txt<br/>cc/34397.ann<br/>cc/34397.txt<br/>cc/3468.ann<br/>cc/3468.txt<br/>cc/35010.ann<br/>cc/35010.txt<br/>cc/35112.ann<br/>cc/35112.txt<br/>cc/35525.ann<br/>cc/35525.txt<br/>cc/3553.ann<br/>cc/3553.txt<br/>cc/36077.ann<br/>cc/36077.txt<br/>cc/3838.ann<br/>cc/3838.txt<br/>cc/3880.ann<br/>cc/3880.txt<br/>cc/4114.ann<br/>cc/4114.txt<br/>cc/474.ann<br/>cc/474.txt<br/>cc/481.ann<br/>cc/481.txt<br/>cc/5367.ann<br/>cc/5367.txt<br/>cc/5723.ann<br/>cc/5723.txt<br/>cc/5775.ann<br/>cc/5775.txt<br/>cc/5834.ann<br/>cc/5834.txt<br/>cc/5932.ann<br/>cc/5932.txt<br/>cc/6192.ann<br/>cc/6192.txt<br/>cc/6443.ann<br/>cc/6443.txt<br/>cc/6475.ann<br/>cc/6475.txt<br/>cc/6670.ann<br/>cc/6670.txt<br/>cc/6895.ann<br/>cc/6895.txt<br/>cc/7149.ann<br/>cc/7149.txt<br/>cc/7293.ann<br/>cc/7293.txt<br/>cc/7641.ann<br/>cc/7641.txt<br/>cc/7866.ann<br/>cc/7866.txt<br/>cc/803.ann<br/>cc/803.txt<br/>cc/8037.ann<br/>cc/8037.txt<br/>cc/8081.ann<br/>cc/8081.txt<br/>cc/8142.ann<br/>cc/8142.txt<br/>cc/8341.ann<br/>cc/8341.txt<br/>cc/836.ann<br/>cc/836.txt<br/>cc/8570.ann<br/>cc/8570.txt<br/>cc/8583.ann<br/>cc/8583.txt<br/>cc/8889.ann<br/>cc/8889.txt<br/>cc/9016.ann<br/>cc/9016.txt<br/>cc/934.ann<br/>cc/934.txt<br/>cc/9400.ann<br/>cc/9400.txt<br/>cc/9425.ann<br/>cc/9425.txt<br/>cc/945.ann<br/>cc/945.txt<br/>cc/9847.ann<br/>cc/9847.txt<br/>cc/annotation.conf<br/></div>"
      ],
      "text/plain": [
       "<IPython.core.display.HTML object>"
      ]
     },
     "metadata": {},
     "output_type": "display_data"
    }
   ],
   "source": [
    "with ZipFile(corpus_zip, 'r') as myzip:\n",
    "#  scrollPrint can take in a list of string or a single string, \n",
    "# and print it out in a scrollable DIV (a type of html element)\n",
    "    scrollPrint(myzip.namelist(),250)\n"
   ]
  },
  {
   "cell_type": "markdown",
   "metadata": {},
   "source": [
    "In general, it is much easier if we unzip the file and directly operate the unzipped files. However, using the jupyter notebook GUI (not using code), it is very cubersome to display or move around these files. Thus, we operate the corpus within zip files. Also, zip files are much easier to download if you want to.\n",
    "\n",
    "(Another option would be importing the data into a database, which is commonly used in real practice. )"
   ]
  },
  {
   "cell_type": "code",
   "execution_count": 32,
   "metadata": {
    "collapsed": false,
    "scrolled": false
   },
   "outputs": [],
   "source": [
    "def splitter(corpus_zip, train_percent):\n",
    "    #   you are welcome to include all the documents, but here we are just limiting the size for the workload considerations\n",
    "    size = 100\n",
    "    train_percent = 0.01 * train_percent\n",
    "    corpus = {'bc': {1: [], 0: []},\n",
    "              'cc': {1: [], 0: []}}\n",
    "    with ZipFile(corpus_zip, 'r') as myzip:\n",
    "        #  Read document level annoations, differentiate whether the document is positive or negative,\n",
    "        #  because we want to randomly split within positive docs or negative docs, not in a whole (why?)\n",
    "        for filename in myzip.namelist():\n",
    "            prefix = filename[:2]\n",
    "            if filename.endswith('.ann'):\n",
    "                with myzip.open(filename) as annfile:\n",
    "                    doc_anno_line = annfile.readline().decode(\"utf-8\")\n",
    "                    conclusion = 0 if doc_anno_line.split('\\t')[1].startswith('NE') else 1\n",
    "                    corpus[prefix][conclusion].append(filename[3:-4])\n",
    "\n",
    "        for prefix in corpus.keys():\n",
    "            train_zip = ZipFile(prefix + '_train.zip', mode='w', compression=ZIP_DEFLATED)\n",
    "            test_zip = ZipFile(prefix + '_test.zip', mode='w', compression=ZIP_DEFLATED)\n",
    "            try:\n",
    "                subcorpus = corpus[prefix]\n",
    "                # if you don't want to limit the size, just use  neg_doc_names = subcorpus[0]  directly\n",
    "                random.shuffle(subcorpus[1])\n",
    "                random.shuffle(subcorpus[0])\n",
    "                subcorpus[0] = subcorpus[0][:(size - len(subcorpus[1]))]\n",
    "                # split among positive documents\n",
    "                split_train_test(myzip, train_zip, test_zip, prefix, subcorpus[1], train_percent)\n",
    "                # split among negative documents\n",
    "                split_train_test(myzip, train_zip, test_zip, prefix, subcorpus[0], train_percent)\n",
    "\n",
    "            finally:\n",
    "                train_zip.close()\n",
    "                test_zip.close()\n",
    "\n",
    "\n",
    "def split_train_test(corpuszip, train_zip, test_zip, prefix, subcorpus, train_percent):\n",
    "    splice = round(len(subcorpus) * train_percent)\n",
    "    # add sampled training set from the documents\n",
    "    add_files(corpuszip, train_zip, prefix, subcorpus[:splice])\n",
    "    # add the rest of the documents into testing set\n",
    "    add_files(corpuszip, test_zip, prefix, subcorpus[splice:])\n",
    "\n",
    "\n",
    "def add_files(corpuszip, targetzip, prefix, filenames):\n",
    "    print('write ' + str(len(filenames)) + ' files into file: ' + targetzip.filename)\n",
    "    for doc_name in filenames:\n",
    "        annfile = doc_name + '.ann'\n",
    "        txtfile = doc_name + '.txt'\n",
    "        targetzip.writestr(annfile, corpuszip.open(prefix + '/' + annfile).read())\n",
    "        targetzip.writestr(txtfile, corpuszip.open(prefix + '/' + txtfile).read())"
   ]
  },
  {
   "cell_type": "code",
   "execution_count": 33,
   "metadata": {
    "collapsed": false
   },
   "outputs": [
    {
     "name": "stdout",
     "output_type": "stream",
     "text": [
      "write 32 files into file: bc_train.zip\n",
      "write 22 files into file: bc_test.zip\n",
      "write 28 files into file: bc_train.zip\n",
      "write 18 files into file: bc_test.zip\n",
      "write 25 files into file: cc_train.zip\n",
      "write 17 files into file: cc_test.zip\n",
      "write 35 files into file: cc_train.zip\n",
      "write 23 files into file: cc_test.zip\n"
     ]
    }
   ],
   "source": [
    "splitter(corpus_zip,60)"
   ]
  },
  {
   "cell_type": "markdown",
   "metadata": {
    "collapsed": true
   },
   "source": [
    "<br/><hr/>This material presented as part of the Foundermental Health Informatics Course, 2017 Fall, BMI, University of Utah. It's revised from the <a href=\"https://github.com/UUDeCART/decart_rule_based_nlp\">material</a> of the DeCART  Summer Program (Data, exploration, Computation, and Analytics Real-world Training for the Health Sciences) at the University of Utah in 2017. <br/><br/>Original presenters : Dr. Wendy Chapman, Jianlin Shi and Kelly Peterson.<br/>\n",
    "Revised by: Jianlin Shi and Dr. Wendy Chapman<br/>\n",
    "<img align=\"left\" src=\"https://wiki.creativecommons.org/images/1/10/Cc.org_cc_by_license.jpg\" alt=\"Except where otherwise noted, this website is licensed under a Creative Commons Attribution 3.0 Unported License.\">"
   ]
  },
  {
   "cell_type": "code",
   "execution_count": null,
   "metadata": {
    "collapsed": true
   },
   "outputs": [],
   "source": []
  }
 ],
 "metadata": {
  "anaconda-cloud": {},
  "kernelspec": {
   "display_name": "Python [conda root]",
   "language": "python",
   "name": "conda-root-py"
  },
  "language_info": {
   "codemirror_mode": {
    "name": "ipython",
    "version": 3
   },
   "file_extension": ".py",
   "mimetype": "text/x-python",
   "name": "python",
   "nbconvert_exporter": "python",
   "pygments_lexer": "ipython3",
   "version": "3.5.2"
  }
 },
 "nbformat": 4,
 "nbformat_minor": 1
}
